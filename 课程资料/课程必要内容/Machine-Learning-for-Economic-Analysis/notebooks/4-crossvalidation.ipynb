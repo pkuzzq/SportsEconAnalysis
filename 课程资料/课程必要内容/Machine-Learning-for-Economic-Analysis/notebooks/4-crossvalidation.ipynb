{
 "cells": [
  {
   "cell_type": "markdown",
   "metadata": {
    "slideshow": {
     "slide_type": "slide"
    }
   },
   "source": [
    "# Session 4 - Resampling Methods\n",
    "\n",
    "*Matteo Courthoud*"
   ]
  },
  {
   "cell_type": "markdown",
   "metadata": {
    "slideshow": {
     "slide_type": "slide"
    }
   },
   "source": [
    "## Content\n",
    "\n",
    "- [Cross-Validation](#/3)\n",
    "- [The Bootstrap](#/17)"
   ]
  },
  {
   "cell_type": "code",
   "execution_count": 1,
   "metadata": {
    "slideshow": {
     "slide_type": "subslide"
    }
   },
   "outputs": [],
   "source": [
    "# Import\n",
    "import pandas as pd\n",
    "import numpy as np\n",
    "import seaborn as sns\n",
    "import time\n",
    "import warnings\n",
    "warnings.filterwarnings('ignore')\n",
    "\n",
    "from numpy.linalg import inv\n",
    "from numpy.random import normal\n",
    "from sklearn.linear_model import LinearRegression\n",
    "from sklearn.metrics import mean_squared_error\n",
    "from sklearn.model_selection import train_test_split, LeaveOneOut, KFold, cross_val_score\n",
    "from sklearn.preprocessing import PolynomialFeatures\n",
    "from sklearn.utils import resample"
   ]
  },
  {
   "cell_type": "code",
   "execution_count": 2,
   "metadata": {
    "slideshow": {
     "slide_type": "subslide"
    }
   },
   "outputs": [],
   "source": [
    "# Import matplotlib for graphs\n",
    "import matplotlib.pyplot as plt\n",
    "from mpl_toolkits.mplot3d import axes3d\n",
    "\n",
    "# Set global parameters\n",
    "%matplotlib inline\n",
    "plt.style.use('seaborn-white')\n",
    "plt.rcParams['lines.linewidth'] = 3\n",
    "plt.rcParams['figure.figsize'] = (10,6)\n",
    "plt.rcParams['figure.titlesize'] = 20\n",
    "plt.rcParams['axes.titlesize'] = 18\n",
    "plt.rcParams['axes.labelsize'] = 14\n",
    "plt.rcParams['legend.fontsize'] = 14"
   ]
  },
  {
   "cell_type": "markdown",
   "metadata": {
    "slideshow": {
     "slide_type": "slide"
    }
   },
   "source": [
    "Resampling methods involve repeatedly drawing samples from a training set and refitting a model of interest on each sample in order to obtain additional information about the fitted model. "
   ]
  },
  {
   "cell_type": "markdown",
   "metadata": {
    "slideshow": {
     "slide_type": "slide"
    }
   },
   "source": [
    "## 4.1 Cross-Validation\n",
    "\n",
    "[*go to index*](#/1)"
   ]
  },
  {
   "cell_type": "markdown",
   "metadata": {
    "slideshow": {
     "slide_type": "slide"
    }
   },
   "source": [
    "Cross-validation can be used to estimate the test error associated with a given statistical learning method in order to evaluate its performance, or to select the appropriate level of flexibility. The process of evaluating a model’s performance is known as **model assessment**, whereas the process of selecting the proper level of flexibility for a model is known as **model selection**. "
   ]
  },
  {
   "cell_type": "markdown",
   "metadata": {
    "slideshow": {
     "slide_type": "slide"
    }
   },
   "source": [
    "Let's use the `auto` dataset we have used for nonparametric models."
   ]
  },
  {
   "cell_type": "code",
   "execution_count": 3,
   "metadata": {},
   "outputs": [
    {
     "data": {
      "text/html": [
       "<div>\n",
       "<style scoped>\n",
       "    .dataframe tbody tr th:only-of-type {\n",
       "        vertical-align: middle;\n",
       "    }\n",
       "\n",
       "    .dataframe tbody tr th {\n",
       "        vertical-align: top;\n",
       "    }\n",
       "\n",
       "    .dataframe thead th {\n",
       "        text-align: right;\n",
       "    }\n",
       "</style>\n",
       "<table border=\"1\" class=\"dataframe\">\n",
       "  <thead>\n",
       "    <tr style=\"text-align: right;\">\n",
       "      <th></th>\n",
       "      <th>mpg</th>\n",
       "      <th>cylinders</th>\n",
       "      <th>displacement</th>\n",
       "      <th>horsepower</th>\n",
       "      <th>weight</th>\n",
       "      <th>acceleration</th>\n",
       "      <th>year</th>\n",
       "      <th>origin</th>\n",
       "      <th>name</th>\n",
       "    </tr>\n",
       "  </thead>\n",
       "  <tbody>\n",
       "    <tr>\n",
       "      <th>0</th>\n",
       "      <td>18.0</td>\n",
       "      <td>8</td>\n",
       "      <td>307.0</td>\n",
       "      <td>130</td>\n",
       "      <td>3504</td>\n",
       "      <td>12.0</td>\n",
       "      <td>70</td>\n",
       "      <td>1</td>\n",
       "      <td>chevrolet chevelle malibu</td>\n",
       "    </tr>\n",
       "    <tr>\n",
       "      <th>1</th>\n",
       "      <td>15.0</td>\n",
       "      <td>8</td>\n",
       "      <td>350.0</td>\n",
       "      <td>165</td>\n",
       "      <td>3693</td>\n",
       "      <td>11.5</td>\n",
       "      <td>70</td>\n",
       "      <td>1</td>\n",
       "      <td>buick skylark 320</td>\n",
       "    </tr>\n",
       "    <tr>\n",
       "      <th>2</th>\n",
       "      <td>18.0</td>\n",
       "      <td>8</td>\n",
       "      <td>318.0</td>\n",
       "      <td>150</td>\n",
       "      <td>3436</td>\n",
       "      <td>11.0</td>\n",
       "      <td>70</td>\n",
       "      <td>1</td>\n",
       "      <td>plymouth satellite</td>\n",
       "    </tr>\n",
       "    <tr>\n",
       "      <th>3</th>\n",
       "      <td>16.0</td>\n",
       "      <td>8</td>\n",
       "      <td>304.0</td>\n",
       "      <td>150</td>\n",
       "      <td>3433</td>\n",
       "      <td>12.0</td>\n",
       "      <td>70</td>\n",
       "      <td>1</td>\n",
       "      <td>amc rebel sst</td>\n",
       "    </tr>\n",
       "    <tr>\n",
       "      <th>4</th>\n",
       "      <td>17.0</td>\n",
       "      <td>8</td>\n",
       "      <td>302.0</td>\n",
       "      <td>140</td>\n",
       "      <td>3449</td>\n",
       "      <td>10.5</td>\n",
       "      <td>70</td>\n",
       "      <td>1</td>\n",
       "      <td>ford torino</td>\n",
       "    </tr>\n",
       "  </tbody>\n",
       "</table>\n",
       "</div>"
      ],
      "text/plain": [
       "    mpg  cylinders  displacement  horsepower  weight  acceleration  year  \\\n",
       "0  18.0          8         307.0         130    3504          12.0    70   \n",
       "1  15.0          8         350.0         165    3693          11.5    70   \n",
       "2  18.0          8         318.0         150    3436          11.0    70   \n",
       "3  16.0          8         304.0         150    3433          12.0    70   \n",
       "4  17.0          8         302.0         140    3449          10.5    70   \n",
       "\n",
       "   origin                       name  \n",
       "0       1  chevrolet chevelle malibu  \n",
       "1       1          buick skylark 320  \n",
       "2       1         plymouth satellite  \n",
       "3       1              amc rebel sst  \n",
       "4       1                ford torino  "
      ]
     },
     "execution_count": 3,
     "metadata": {},
     "output_type": "execute_result"
    }
   ],
   "source": [
    "# Load car dataset\n",
    "df1 = pd.read_csv('data/Auto.csv', na_values='?').dropna()\n",
    "df1.head()"
   ]
  },
  {
   "cell_type": "markdown",
   "metadata": {
    "slideshow": {
     "slide_type": "slide"
    }
   },
   "source": [
    "### The Validation Set Approach"
   ]
  },
  {
   "cell_type": "markdown",
   "metadata": {
    "slideshow": {
     "slide_type": "fragment"
    }
   },
   "source": [
    "Suppose that we would like to estimate the test error associated with fitting a particular statistical learning method on a set of observations. The validation set approach is a very simple strategy for this task. It involves randomly dividing the available set of observations into two parts\n",
    "\n",
    "1. a **training set** and \n",
    "2. a **validation set** or hold-out set\n",
    "\n",
    "The model is fit on the training set, and the fitted model is used to predict the responses for the observations in the validation set. The resulting validation set error rate-typically assessed using MSE in the case of a quantitative response—provides an estimate of the test error rate.\n",
    "\n",
    "In the following example we are are going to compute the MSE fit polynomial of different order (one to ten). We are going to split the data 50-50 across training and test set."
   ]
  },
  {
   "cell_type": "code",
   "execution_count": 4,
   "metadata": {
    "slideshow": {
     "slide_type": "subslide"
    }
   },
   "outputs": [],
   "source": [
    "# Cross-validation function for polynomials\n",
    "def cv_poly(X, y, p_order, r_states, t_prop):\n",
    "    start = time.time()\n",
    "    \n",
    "    # Init scores\n",
    "    scores = np.zeros((p_order.size,r_states.size))\n",
    "    \n",
    "    # Generate 10 random splits of the dataset\n",
    "    for j in r_states:\n",
    "        \n",
    "        # Split sample in train and test\n",
    "        X_train, X_test, y_train, y_test = train_test_split(X, y, test_size=t_prop, random_state=j)\n",
    "        \n",
    "            \n",
    "        # For every polynomial degree\n",
    "        for i in p_order:\n",
    "\n",
    "            # Generate polynomial\n",
    "            X_train_poly = PolynomialFeatures(i+1).fit_transform(X_train)\n",
    "            X_test_poly = PolynomialFeatures(i+1).fit_transform(X_test)\n",
    "\n",
    "            # Fit regression                                                                    \n",
    "            ols = LinearRegression().fit(X_train_poly, y_train)\n",
    "            pred = ols.predict(X_test_poly)\n",
    "            scores[i,j]= mean_squared_error(y_test, pred)\n",
    "    print('Time elapsed: %.4f seconds' % (time.time()-start))\n",
    "    return scores"
   ]
  },
  {
   "cell_type": "code",
   "execution_count": 5,
   "metadata": {
    "slideshow": {
     "slide_type": "subslide"
    }
   },
   "outputs": [
    {
     "name": "stdout",
     "output_type": "stream",
     "text": [
      "Time elapsed: 0.0266 seconds\n"
     ]
    }
   ],
   "source": [
    "# Init\n",
    "t_prop = 0.5\n",
    "p_order = np.arange(10)\n",
    "r_states = np.arange(10)\n",
    "\n",
    "# Get X,y \n",
    "X = df1.horsepower.values.reshape(-1,1)\n",
    "y = df1.mpg.ravel()\n",
    "\n",
    "# Compute scores\n",
    "cv_scores = cv_poly(X, y, p_order, r_states, t_prop)"
   ]
  },
  {
   "cell_type": "markdown",
   "metadata": {
    "slideshow": {
     "slide_type": "slide"
    }
   },
   "source": [
    "Let's test the score for polynomials of different orders."
   ]
  },
  {
   "cell_type": "code",
   "execution_count": 6,
   "metadata": {
    "slideshow": {
     "slide_type": "notes"
    }
   },
   "outputs": [],
   "source": [
    "# Figure 5.2\n",
    "def make_figure_5_2():\n",
    "    \n",
    "    # Init\n",
    "    fig, (ax1, ax2) = plt.subplots(1,2,figsize=(14,6))\n",
    "    fig.suptitle('Figure 5.2')\n",
    "\n",
    "    # Left plot (first split)\n",
    "    ax1.plot(p_order+1,cv_scores[:,0], '-o')\n",
    "    ax1.set_title('Random split of the data set')\n",
    "\n",
    "    # Right plot (all splits)\n",
    "    ax2.plot(p_order+1,cv_scores)\n",
    "    ax2.set_title('10 random splits of the data set')\n",
    "\n",
    "    for ax in fig.axes:\n",
    "        ax.set_ylabel('Mean Squared Error')\n",
    "        ax.set_ylim(15,30)\n",
    "        ax.set_xlabel('Degree of Polynomial')\n",
    "        ax.set_xlim(0.5,10.5)\n",
    "        ax.set_xticks(range(2,11,2));"
   ]
  },
  {
   "cell_type": "code",
   "execution_count": 7,
   "metadata": {
    "slideshow": {
     "slide_type": "fragment"
    }
   },
   "outputs": [
    {
     "data": {
      "image/png": "[encoded data removed]",
      "text/plain": [
       "<Figure size 1008x432 with 2 Axes>"
      ]
     },
     "metadata": {},
     "output_type": "display_data"
    }
   ],
   "source": [
    "make_figure_5_2()"
   ]
  },
  {
   "cell_type": "markdown",
   "metadata": {
    "slideshow": {
     "slide_type": "slide"
    }
   },
   "source": [
    "This figure illustrates a **first drawback** of the validation approach: the estimate of the test error rate can be highly variable, depending on pre- cisely which observations are included in the training set and which observations are included in the validation set.\n",
    "\n",
    "\n",
    "The **second drawback** of the validation approach is that only a subset of the observations—those that are included in the training set rather than in the validation set—are used to fit the model. Since statistical methods tend to per- form worse when trained on fewer observations, this suggests that the validation set error rate may tend to overestimate the test error rate for the model fit on the entire data set."
   ]
  },
  {
   "cell_type": "markdown",
   "metadata": {
    "slideshow": {
     "slide_type": "slide"
    }
   },
   "source": [
    "### Leave-One-Out Cross-Validation"
   ]
  },
  {
   "cell_type": "markdown",
   "metadata": {
    "slideshow": {
     "slide_type": "fragment"
    }
   },
   "source": [
    "Leave-one-out cross-validation (LOOCV) ttempts to address that method’s drawbacks.\n",
    "\n",
    "Like the validation set approach, LOOCV involves splitting the set of observations into two parts. However, instead of creating two subsets of comparable size, a single observation $i$ is used for the validation set, and the remaining $n-1$ observations make up the training set. The statistical learning method is fit on the $n−1$ training observations and the MSE is computed using the excluded observation $i$. The procedure is repeated $n$ times, for $i=1,...,n$.\n",
    "\n",
    "The LOOCV estimate for the test MSE is the average of these $n$ test error estimates:\n",
    "\n",
    "$$\n",
    "\\mathrm{CV}_{(n)}=\\frac{1}{n} \\sum_{i=1}^{n} \\mathrm{MSE}_{i}\n",
    "$$"
   ]
  },
  {
   "cell_type": "markdown",
   "metadata": {
    "slideshow": {
     "slide_type": "slide"
    }
   },
   "source": [
    "LOOCV has a couple of major **advantages** over the validation set approach. \n",
    "\n",
    "First, it has far less bias. In LOOCV, we repeatedly fit the statistical learning method using training sets that contain $n − 1$ observations, almost as many as are in the entire data set. However, this also means that LOOCV is more computationally intense.\n",
    "\n",
    "Second, in contrast to the validation approach which will yield different results when applied repeatedly due to randomness in the training/validation set splits, performing LOOCV multiple times will always yield the same results: there is no randomness in the training/validation set splits."
   ]
  },
  {
   "cell_type": "code",
   "execution_count": 8,
   "metadata": {
    "scrolled": true,
    "slideshow": {
     "slide_type": "subslide"
    }
   },
   "outputs": [],
   "source": [
    "# LeaveOneOut CV function for polynomials\n",
    "def loo_cv_poly(X, y, p_order):\n",
    "    start = time.time()\n",
    "    \n",
    "    # Init\n",
    "    loo = LeaveOneOut().get_n_splits(y)\n",
    "    loo_scores = np.zeros((p_order.size,1))\n",
    "    \n",
    "    # For every polynomial degree\n",
    "    for i in p_order:\n",
    "        # Generate polynomial\n",
    "        X_poly = PolynomialFeatures(i+1).fit_transform(X)\n",
    "\n",
    "        # Get score\n",
    "        loo_scores[i] = cross_val_score(LinearRegression(), X_poly, y, cv=loo, scoring='neg_mean_squared_error').mean()\n",
    "        \n",
    "    print('Time elapsed: %.4f seconds' % (time.time()-start))\n",
    "    return loo_scores"
   ]
  },
  {
   "cell_type": "markdown",
   "metadata": {
    "slideshow": {
     "slide_type": "slide"
    }
   },
   "source": [
    "Let's compare the validation set approach against LOO in terms of computational time."
   ]
  },
  {
   "cell_type": "code",
   "execution_count": 9,
   "metadata": {
    "slideshow": {
     "slide_type": "fragment"
    }
   },
   "outputs": [
    {
     "name": "stdout",
     "output_type": "stream",
     "text": [
      "Time elapsed: 0.0261 seconds\n",
      "Time elapsed: 1.1189 seconds\n"
     ]
    }
   ],
   "source": [
    "# Validation set approach\n",
    "cv_scores = cv_poly(X, y, p_order, r_states, t_prop)\n",
    "    \n",
    "# Leave One Out CV\n",
    "loo_scores = loo_cv_poly(X, y, p_order)"
   ]
  },
  {
   "cell_type": "markdown",
   "metadata": {},
   "source": [
    "As expected, LOOCV is much more computationally intense. Even accounting for the fact that we repeat every the validation set approach 10 times."
   ]
  },
  {
   "cell_type": "markdown",
   "metadata": {
    "slideshow": {
     "slide_type": "slide"
    }
   },
   "source": [
    "Let's now compare them in terms of accuracy in minimizing the MSE."
   ]
  },
  {
   "cell_type": "code",
   "execution_count": 10,
   "metadata": {
    "scrolled": false,
    "slideshow": {
     "slide_type": "notes"
    }
   },
   "outputs": [],
   "source": [
    "# Make new figure 1\n",
    "def make_new_figure_1():\n",
    "\n",
    "    # Init\n",
    "    fig, ax = plt.subplots(1,1, figsize=(7,6))\n",
    "\n",
    "    # Left plot\n",
    "    ax.plot(p_order+1, np.array(loo_scores)*-1, '-o', label='LOOCV')\n",
    "    ax.plot(p_order+1, np.mean(cv_scores, axis=1), '-o', c='orange', label='Standard CV')\n",
    "    ax.set_ylabel('Mean Squared Error'); ax.set_xlabel('Degree of Polynomial');\n",
    "    ax.set_ylim(15,30); ax.set_xlim(0.5,10.5);\n",
    "    ax.set_xticks(range(2,11,2));\n",
    "    ax.legend();"
   ]
  },
  {
   "cell_type": "code",
   "execution_count": 11,
   "metadata": {
    "slideshow": {
     "slide_type": "fragment"
    }
   },
   "outputs": [
    {
     "data": {
      "image/png": "[encoded data removed]",
      "text/plain": [
       "<Figure size 504x432 with 1 Axes>"
      ]
     },
     "metadata": {},
     "output_type": "display_data"
    }
   ],
   "source": [
    "make_new_figure_1()"
   ]
  },
  {
   "cell_type": "markdown",
   "metadata": {
    "slideshow": {
     "slide_type": "slide"
    }
   },
   "source": [
    "With least squares linear or polynomial regression, an amazing shortcut makes the cost of LOOCV the same as that of a single model fit! The following formula holds:\n",
    "\n",
    "$$\n",
    "\\mathrm{CV}_{(n)}=\\frac{1}{n} \\sum_{i=1}^{n}\\left(\\frac{y_{i}-\\hat{y}_{i}}{1-h_{i}}\\right)^{2}\n",
    "$$\n",
    "\n",
    "where $\\hat y_i$ is the $i^{th}$ fitted value from the original least squares fit, and $h_i$ is the leverage of observation $i$."
   ]
  },
  {
   "cell_type": "markdown",
   "metadata": {
    "slideshow": {
     "slide_type": "slide"
    }
   },
   "source": [
    "### k-Fold Cross-Validation"
   ]
  },
  {
   "cell_type": "markdown",
   "metadata": {
    "slideshow": {
     "slide_type": "fragment"
    }
   },
   "source": [
    "An alternative to LOOCV is k-fold CV. This approach involves the following steps:\n",
    "\n",
    "1. Randomly dividing the set of observations into $k$ groups, or folds, of approximately equal size.\n",
    "2. The first fold is treated as a validation set, and the method is fit on the remaining $k − 1$ folds. \n",
    "3. The mean squared error, MSE1, is then computed on the observations in the held-out fold.\n",
    "4. Steps (1)-(3) are repeated $k$ times; each time, a different group of observations is treated as a validation set.\n",
    "\n",
    "The k-fold CV estimate is computed by averaging these values\n",
    "\n",
    "$$\n",
    "\\mathrm{CV}_{(k)}=\\frac{1}{k} \\sum_{i=1}^{k} \\mathrm{MSE}_{i}\n",
    "$$"
   ]
  },
  {
   "cell_type": "markdown",
   "metadata": {
    "slideshow": {
     "slide_type": "slide"
    }
   },
   "source": [
    "LOOCV is a special case of k-fold CV in which $k$ is set to equal $n$. In practice, one typically performs k-fold CV using $k = 5$ or $k = 10$.\n",
    "\n",
    "The most obvious **advantage** is computational. LOOCV requires fitting the statistical learning method $n$ times, while k-fold CV only requires $k$ splits. "
   ]
  },
  {
   "cell_type": "code",
   "execution_count": 12,
   "metadata": {
    "slideshow": {
     "slide_type": "subslide"
    }
   },
   "outputs": [],
   "source": [
    "# 10fold CV function for polynomials\n",
    "def k10_cv_poly(X, y, p_order, r_states, folds):\n",
    "    start = time.time()\n",
    "    \n",
    "    # Init\n",
    "    k10_scores = np.zeros((p_order.size,r_states.size))\n",
    "\n",
    "    # Generate 10 random splits of the dataset\n",
    "    for j in r_states:\n",
    "\n",
    "        # For every polynomial degree\n",
    "        for i in p_order:\n",
    "\n",
    "            # Generate polynomial\n",
    "            X_poly = PolynomialFeatures(i+1).fit_transform(X)\n",
    "\n",
    "            # Split sample in train and test\n",
    "            kf10 = KFold(n_splits=folds, shuffle=True, random_state=j)\n",
    "            k10_scores[i,j] = cross_val_score(LinearRegression(), X_poly, y, cv=kf10, \n",
    "                                               scoring='neg_mean_squared_error').mean()  \n",
    "    \n",
    "    print('Time elapsed: %.4f seconds' % (time.time()-start))\n",
    "    return k10_scores"
   ]
  },
  {
   "cell_type": "markdown",
   "metadata": {
    "slideshow": {
     "slide_type": "slide"
    }
   },
   "source": [
    "Let's now compare 10 fold cross-validation with LOO in terms of computational time."
   ]
  },
  {
   "cell_type": "code",
   "execution_count": 13,
   "metadata": {
    "slideshow": {
     "slide_type": "fragment"
    }
   },
   "outputs": [
    {
     "name": "stdout",
     "output_type": "stream",
     "text": [
      "Time elapsed: 1.1403 seconds\n",
      "Time elapsed: 0.3066 seconds\n"
     ]
    }
   ],
   "source": [
    "# Leave One Out CV\n",
    "loo_scores = loo_cv_poly(X, y, p_order)\n",
    "    \n",
    "# 10-fold CV\n",
    "folds = 10\n",
    "k10_scores = k10_cv_poly(X, y, p_order, r_states, folds)"
   ]
  },
  {
   "cell_type": "markdown",
   "metadata": {},
   "source": [
    "Indeed we see that the LOOCV approach is more computationally intense. Even accounting for the fact that we repeat every 10-fold cross-validation 10 times."
   ]
  },
  {
   "cell_type": "markdown",
   "metadata": {
    "slideshow": {
     "slide_type": "slide"
    }
   },
   "source": [
    "We can now compare all the methods in terms of accuracy."
   ]
  },
  {
   "cell_type": "code",
   "execution_count": 14,
   "metadata": {
    "scrolled": false,
    "slideshow": {
     "slide_type": "notes"
    }
   },
   "outputs": [],
   "source": [
    "# Figure 5.4\n",
    "def make_figure_5_4():\n",
    "\n",
    "    fig, (ax1, ax2, ax3) = plt.subplots(1,3,figsize=(17,5))\n",
    "    fig.suptitle('Figure 5.4')\n",
    "\n",
    "    # Left plot\n",
    "    ax1.plot(p_order+1, np.array(loo_scores)*-1, '-o')\n",
    "    ax1.set_title('LOOCV', fontsize=12)\n",
    "\n",
    "    # Center plot\n",
    "    ax2.plot(p_order+1,k10_scores*-1)\n",
    "    ax2.set_title('10-fold CV', fontsize=12)\n",
    "\n",
    "    # Right plot\n",
    "    ax3.plot(p_order+1, np.array(loo_scores)*-1, '-o', label='LOOCV')\n",
    "    ax3.plot(p_order+1, np.mean(cv_scores, axis=1), label='Standard CV')\n",
    "    ax3.plot(p_order+1,np.mean(k10_scores,axis=1)*-1, label='10-fold CV')\n",
    "    ax3.set_title('Comparison', fontsize=12);\n",
    "    ax3.legend();\n",
    "\n",
    "    for ax in fig.axes:\n",
    "        ax.set_ylabel('Mean Squared Error')\n",
    "        ax.set_ylim(15,30)\n",
    "        ax.set_xlabel('Degree of Polynomial')\n",
    "        ax.set_xlim(0.5,10.5)\n",
    "        ax.set_xticks(range(2,11,2));"
   ]
  },
  {
   "cell_type": "code",
   "execution_count": 15,
   "metadata": {
    "slideshow": {
     "slide_type": "fragment"
    }
   },
   "outputs": [
    {
     "data": {
      "image/png": "[encoded data removed]",
      "text/plain": [
       "<Figure size 1224x360 with 3 Axes>"
      ]
     },
     "metadata": {},
     "output_type": "display_data"
    }
   ],
   "source": [
    "make_figure_5_4()"
   ]
  },
  {
   "cell_type": "markdown",
   "metadata": {},
   "source": [
    "10-fold cross-validation outputs a very similar MSE with respect to LOOCV, but with considerably less computational time."
   ]
  },
  {
   "cell_type": "markdown",
   "metadata": {
    "slideshow": {
     "slide_type": "slide"
    }
   },
   "source": [
    "## 4.2 The Bootstrap\n",
    "\n",
    "[*go to index*](#/1)"
   ]
  },
  {
   "cell_type": "markdown",
   "metadata": {
    "slideshow": {
     "slide_type": "slide"
    }
   },
   "source": [
    "The bootstrap is a widely applicable and extremely powerful statistical tool that can be used to quantify the uncertainty associated with a given estimator or statistical learning method. In the specific case of linear regression, this is not particularly useful since there exist a formula for the standard errors. However, there are many models (almost all actually) for which there exists no closed for solution to the estimator variance.\n",
    "\n",
    "In pricinple, we would like to draw independent samples from the true data generating process and assessing the uncertainty of an estimator by comparing its values across the different samples. However, this is clearly unfeasible since we do not know the true data generating process.\n",
    "\n",
    "With the bootstrap, rather than repeatedly obtaining independent data sets from the population, we instead obtain distinct data sets by repeatedly sampling observations from the original data set. The power of the bootstrap lies in the fact that it can be easily applied to a wide range of statistical learning methods, including some for which a measure of variability is otherwise difficult to obtain and is not automatically output by statistical software."
   ]
  },
  {
   "cell_type": "markdown",
   "metadata": {
    "slideshow": {
     "slide_type": "slide"
    }
   },
   "source": [
    "We are now going to assess its usefulness through simulation. Take the following model:\n",
    "\n",
    "$$\n",
    "y_i = \\beta_0 \\cdot x_i + \\varepsilon_i\n",
    "$$\n",
    "\n",
    "where $\\beta_0 = 0.6$ and $\\varepsilon \\sim N(0,1)$. We are now going to assess the variance of the OLS estimator $\\hat \\beta$ with the standard formula, simulating different samples and with bootstrap."
   ]
  },
  {
   "cell_type": "code",
   "execution_count": 16,
   "metadata": {
    "slideshow": {
     "slide_type": "subslide"
    }
   },
   "outputs": [],
   "source": [
    "# Set seed\n",
    "np.random.seed(1)\n",
    "\n",
    "# Init\n",
    "simulations = 1000\n",
    "N = 1000\n",
    "beta_0 = 0.6\n",
    "beta_sim = np.zeros((simulations,1))\n",
    "\n",
    "# Generate X\n",
    "X = normal(0,3,N).reshape(-1,1)\n",
    "\n",
    "# Loop over simulations\n",
    "for i in range(simulations):\n",
    "    \n",
    "    # Generate y\n",
    "    e = normal(0,1,N).reshape(-1,1)\n",
    "    y = beta_0*X + e\n",
    "    \n",
    "    # Estimate beta OLS\n",
    "    beta_sim[i] = inv(X.T @ X) @ X.T @ y"
   ]
  },
  {
   "cell_type": "code",
   "execution_count": 17,
   "metadata": {
    "slideshow": {
     "slide_type": "subslide"
    }
   },
   "outputs": [],
   "source": [
    "# Init Bootstrap\n",
    "beta_boot = np.zeros((simulations,1))\n",
    "\n",
    "# Loop over simulations\n",
    "for i in range(simulations):\n",
    "    \n",
    "    # Sample y\n",
    "    X_sample, y_sample = resample(X, y, random_state=i)\n",
    "    \n",
    "    # Estimate beta OLS\n",
    "    beta_boot[i] = inv(X_sample.T @ X_sample) @ X_sample.T @ y_sample"
   ]
  },
  {
   "cell_type": "markdown",
   "metadata": {
    "slideshow": {
     "slide_type": "slide"
    }
   },
   "source": [
    "We can first compare the means."
   ]
  },
  {
   "cell_type": "code",
   "execution_count": 18,
   "metadata": {
    "slideshow": {
     "slide_type": "fragment"
    }
   },
   "outputs": [
    {
     "name": "stdout",
     "output_type": "stream",
     "text": [
      "True value      : 0.6000\n",
      "Mean Simulations: 0.6003\n",
      "Mean One Sample : 0.5815\n",
      "Mean Boostrap   : 0.5816\n"
     ]
    }
   ],
   "source": [
    "# Print means\n",
    "print('True value      : %.4f' % beta_0)\n",
    "print('Mean Simulations: %.4f' % np.mean(beta_sim))\n",
    "print('Mean One Sample : %.4f' % beta_sim[-1])\n",
    "print('Mean Boostrap   : %.4f' % np.mean(beta_boot))"
   ]
  },
  {
   "cell_type": "markdown",
   "metadata": {},
   "source": [
    "The mean of the bootstrap estimtor is quite off. But this is not its actual purpose: it is designed to assess the uncertainty of an estimator, not its value."
   ]
  },
  {
   "cell_type": "markdown",
   "metadata": {
    "slideshow": {
     "slide_type": "slide"
    }
   },
   "source": [
    "Now we compare the variances."
   ]
  },
  {
   "cell_type": "code",
   "execution_count": 19,
   "metadata": {
    "slideshow": {
     "slide_type": "fragment"
    }
   },
   "outputs": [
    {
     "name": "stdout",
     "output_type": "stream",
     "text": [
      "True std       : 0.010737\n",
      "Std Simulations: 0.010830\n",
      "Std One Sample : 0.010536\n",
      "Std Boostrap   : 0.010812\n"
     ]
    }
   ],
   "source": [
    "# Print variances\n",
    "print('True std       : %.6f' % np.sqrt(inv(X.T @ X)))\n",
    "print('Std Simulations: %.6f' % np.std(beta_sim))\n",
    "print('Std One Sample : %.6f' % np.sqrt(inv(X.T @ X) * np.var(y - beta_sim[-1]*X)))\n",
    "print('Std Boostrap   : %.6f' % np.std(beta_boot))"
   ]
  },
  {
   "cell_type": "markdown",
   "metadata": {},
   "source": [
    "Bootstrap gets as close to the true standard deviation of the estimator as the simulation with the true data generating process. Impressive!"
   ]
  },
  {
   "cell_type": "markdown",
   "metadata": {
    "slideshow": {
     "slide_type": "slide"
    }
   },
   "source": [
    "We can now have a visual inspection."
   ]
  },
  {
   "cell_type": "code",
   "execution_count": 20,
   "metadata": {
    "scrolled": false,
    "slideshow": {
     "slide_type": "notes"
    }
   },
   "outputs": [],
   "source": [
    "# Figure 5.10\n",
    "def make_figure_5_10():\n",
    "\n",
    "    fig, (ax1, ax2, ax3) = plt.subplots(1,3,figsize=(14,6))\n",
    "    fig.suptitle('Figure 5.10')\n",
    "\n",
    "    # Left plot\n",
    "    ax1.hist(beta_sim, bins=10, edgecolor='black');\n",
    "    ax1.axvline(x=beta_0, color='r', label='beta_0')\n",
    "    ax1.set_xlabel('beta simulated');\n",
    "\n",
    "    # Center plot\n",
    "    ax2.hist(beta_boot, bins=10, color='orange', edgecolor='black');\n",
    "    ax2.axvline(x=beta_0, color='r', label='beta_0')\n",
    "    ax2.set_xlabel('beta bootstrap');\n",
    "\n",
    "    # Right plot\n",
    "    df_bootstrap = pd.DataFrame({'simulated': beta_sim.ravel(), 'bootstrap':beta_boot.ravel()}, \n",
    "                                index=range(simulations))\n",
    "    ax3 = sns.boxplot(data=df_bootstrap, width=0.5, linewidth=2);\n",
    "    ax3.axhline(y=beta_0, color='r', label='beta_0');"
   ]
  },
  {
   "cell_type": "code",
   "execution_count": 21,
   "metadata": {
    "slideshow": {
     "slide_type": "fragment"
    }
   },
   "outputs": [
    {
     "data": {
      "image/png": "[encoded data removed]",
      "text/plain": [
       "<Figure size 1008x432 with 3 Axes>"
      ]
     },
     "metadata": {},
     "output_type": "display_data"
    }
   ],
   "source": [
    "make_figure_5_10()"
   ]
  },
  {
   "cell_type": "markdown",
   "metadata": {},
   "source": [
    "As we can see, the bootstrap is a powerful tool to assess the uncertainty of an estimator."
   ]
  },
  {
   "cell_type": "markdown",
   "metadata": {
    "slideshow": {
     "slide_type": "slide"
    }
   },
   "source": [
    "## Next Session\n",
    "\n",
    "Jump to [Session 5 - Model Selection and Regularization](https://matteocourthoud.github.io/course/ml-econ/2-regularization/)"
   ]
  }
 ],
 "metadata": {
  "celltoolbar": "Slideshow",
  "kernelspec": {
   "display_name": "Python 3",
   "language": "python",
   "name": "python3"
  },
  "language_info": {
   "codemirror_mode": {
    "name": "ipython",
    "version": 3
   },
   "file_extension": ".py",
   "mimetype": "text/x-python",
   "name": "python",
   "nbconvert_exporter": "python",
   "pygments_lexer": "ipython3",
   "version": "3.9.7"
  }
 },
 "nbformat": 4,
 "nbformat_minor": 1
}
