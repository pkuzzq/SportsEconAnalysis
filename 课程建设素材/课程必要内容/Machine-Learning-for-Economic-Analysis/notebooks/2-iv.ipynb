{
 "cells": [
  {
   "cell_type": "markdown",
   "metadata": {
    "slideshow": {
     "slide_type": "slide"
    }
   },
   "source": [
    "# Session 2 - Instrumental Variables\n",
    "\n",
    "*Matteo Courthoud*"
   ]
  },
  {
   "cell_type": "markdown",
   "metadata": {
    "slideshow": {
     "slide_type": "slide"
    }
   },
   "source": [
    "## Contents\n",
    "  \n",
    "- [Simple Linear Regression](#/2)  \n",
    "- [Extending the Linear Regression Model](#/16)  \n",
    "- [Endogeneity](#/20)  \n",
    "- [Matrix Algebra](#/34)"
   ]
  },
  {
   "cell_type": "code",
   "execution_count": 1,
   "metadata": {
    "slideshow": {
     "slide_type": "subslide"
    }
   },
   "outputs": [
    {
     "name": "stderr",
     "output_type": "stream",
     "text": [
      "/opt/homebrew/lib/python3.9/site-packages/statsmodels/tools/_testing.py:19: FutureWarning: pandas.util.testing is deprecated. Use the functions in the public API at pandas.testing instead.\n",
      "  import pandas.util.testing as tm\n"
     ]
    }
   ],
   "source": [
    "# Import everything\n",
    "import pandas as pd\n",
    "import numpy as np\n",
    "import seaborn as sns\n",
    "import statsmodels.api as sm\n",
    "import warnings\n",
    "warnings.filterwarnings('ignore')\n",
    "\n",
    "from numpy.linalg import inv\n",
    "from statsmodels.iolib.summary2 import summary_col\n",
    "from linearmodels.iv import IV2SLS"
   ]
  },
  {
   "cell_type": "code",
   "execution_count": 2,
   "metadata": {
    "slideshow": {
     "slide_type": "subslide"
    }
   },
   "outputs": [],
   "source": [
    "# Import matplotlib for graphs\n",
    "import matplotlib.pyplot as plt\n",
    "from mpl_toolkits.mplot3d import axes3d\n",
    "\n",
    "# Set global parameters\n",
    "%matplotlib inline\n",
    "plt.style.use('seaborn-white')\n",
    "plt.rcParams['lines.linewidth'] = 3\n",
    "plt.rcParams['figure.figsize'] = (10,6)\n",
    "plt.rcParams['figure.titlesize'] = 20\n",
    "plt.rcParams['axes.titlesize'] = 18\n",
    "plt.rcParams['axes.labelsize'] = 14\n",
    "plt.rcParams['legend.fontsize'] = 14"
   ]
  },
  {
   "cell_type": "markdown",
   "metadata": {
    "slideshow": {
     "slide_type": "slide"
    }
   },
   "source": [
    "## 2.1 Simple Linear Regression\n",
    "\n",
    "[*go to index*](#/1)"
   ]
  },
  {
   "cell_type": "markdown",
   "metadata": {
    "slideshow": {
     "slide_type": "slide"
    }
   },
   "source": [
    "In [Acemoglu, Johnson, Robinson (2002), \"*The Colonial Origins of Comparative Development*\"](https://economics.mit.edu/files/4123) the authors wish to determine whether or not differences in institutions can help to explain observed economic outcomes.\n",
    "\n",
    "How do we measure *institutional differences* and *economic outcomes*?\n",
    "\n",
    "In this paper,\n",
    "\n",
    "- economic outcomes are proxied by log GDP per capita in 1995, adjusted for exchange rates.  \n",
    "- institutional differences are proxied by an index of protection against expropriation on average over 1985-95, constructed by the [Political Risk Services Group](https://www.prsgroup.com/).  \n",
    "\n",
    "\n",
    "These variables and other data used in the paper are available for download on Daron Acemoglu’s [webpage](https://economics.mit.edu/faculty/acemoglu/data/ajr2001).\n",
    "\n",
    "The original dataset in in Stata `.dta` format but has been converted to `.csv`."
   ]
  },
  {
   "cell_type": "markdown",
   "metadata": {
    "slideshow": {
     "slide_type": "slide"
    }
   },
   "source": [
    "First, let's load the data and have a look at it."
   ]
  },
  {
   "cell_type": "code",
   "execution_count": 3,
   "metadata": {
    "hide-output": false,
    "slideshow": {
     "slide_type": "fragment"
    }
   },
   "outputs": [
    {
     "data": {
      "text/html": [
       "<div>\n",
       "<style scoped>\n",
       "    .dataframe tbody tr th:only-of-type {\n",
       "        vertical-align: middle;\n",
       "    }\n",
       "\n",
       "    .dataframe tbody tr th {\n",
       "        vertical-align: top;\n",
       "    }\n",
       "\n",
       "    .dataframe thead th {\n",
       "        text-align: right;\n",
       "    }\n",
       "</style>\n",
       "<table border=\"1\" class=\"dataframe\">\n",
       "  <thead>\n",
       "    <tr style=\"text-align: right;\">\n",
       "      <th></th>\n",
       "      <th>GDP</th>\n",
       "      <th>Exprop</th>\n",
       "      <th>Mort</th>\n",
       "      <th>Latitude</th>\n",
       "      <th>Neo</th>\n",
       "      <th>Africa</th>\n",
       "      <th>Asia</th>\n",
       "      <th>Namer</th>\n",
       "      <th>Samer</th>\n",
       "      <th>logMort</th>\n",
       "      <th>Latitude2</th>\n",
       "    </tr>\n",
       "  </thead>\n",
       "  <tbody>\n",
       "    <tr>\n",
       "      <th>1</th>\n",
       "      <td>8.39</td>\n",
       "      <td>6.50</td>\n",
       "      <td>78.20</td>\n",
       "      <td>0.3111</td>\n",
       "      <td>0</td>\n",
       "      <td>1</td>\n",
       "      <td>0</td>\n",
       "      <td>0</td>\n",
       "      <td>0</td>\n",
       "      <td>4.359270</td>\n",
       "      <td>0.096783</td>\n",
       "    </tr>\n",
       "    <tr>\n",
       "      <th>2</th>\n",
       "      <td>7.77</td>\n",
       "      <td>5.36</td>\n",
       "      <td>280.00</td>\n",
       "      <td>0.1367</td>\n",
       "      <td>0</td>\n",
       "      <td>1</td>\n",
       "      <td>0</td>\n",
       "      <td>0</td>\n",
       "      <td>0</td>\n",
       "      <td>5.634790</td>\n",
       "      <td>0.018687</td>\n",
       "    </tr>\n",
       "    <tr>\n",
       "      <th>3</th>\n",
       "      <td>9.13</td>\n",
       "      <td>6.39</td>\n",
       "      <td>68.90</td>\n",
       "      <td>0.3778</td>\n",
       "      <td>0</td>\n",
       "      <td>0</td>\n",
       "      <td>0</td>\n",
       "      <td>0</td>\n",
       "      <td>1</td>\n",
       "      <td>4.232656</td>\n",
       "      <td>0.142733</td>\n",
       "    </tr>\n",
       "    <tr>\n",
       "      <th>4</th>\n",
       "      <td>9.90</td>\n",
       "      <td>9.32</td>\n",
       "      <td>8.55</td>\n",
       "      <td>0.3000</td>\n",
       "      <td>1</td>\n",
       "      <td>0</td>\n",
       "      <td>0</td>\n",
       "      <td>0</td>\n",
       "      <td>0</td>\n",
       "      <td>2.145931</td>\n",
       "      <td>0.090000</td>\n",
       "    </tr>\n",
       "    <tr>\n",
       "      <th>5</th>\n",
       "      <td>9.29</td>\n",
       "      <td>7.50</td>\n",
       "      <td>85.00</td>\n",
       "      <td>0.2683</td>\n",
       "      <td>0</td>\n",
       "      <td>0</td>\n",
       "      <td>0</td>\n",
       "      <td>1</td>\n",
       "      <td>0</td>\n",
       "      <td>4.442651</td>\n",
       "      <td>0.071985</td>\n",
       "    </tr>\n",
       "  </tbody>\n",
       "</table>\n",
       "</div>"
      ],
      "text/plain": [
       "    GDP  Exprop    Mort  Latitude  Neo  Africa  Asia  Namer  Samer   logMort  \\\n",
       "1  8.39    6.50   78.20    0.3111    0       1     0      0      0  4.359270   \n",
       "2  7.77    5.36  280.00    0.1367    0       1     0      0      0  5.634790   \n",
       "3  9.13    6.39   68.90    0.3778    0       0     0      0      1  4.232656   \n",
       "4  9.90    9.32    8.55    0.3000    1       0     0      0      0  2.145931   \n",
       "5  9.29    7.50   85.00    0.2683    0       0     0      1      0  4.442651   \n",
       "\n",
       "   Latitude2  \n",
       "1   0.096783  \n",
       "2   0.018687  \n",
       "3   0.142733  \n",
       "4   0.090000  \n",
       "5   0.071985  "
      ]
     },
     "execution_count": 3,
     "metadata": {},
     "output_type": "execute_result"
    }
   ],
   "source": [
    "# Load Acemoglu Johnson Robinson Dataset\n",
    "df = pd.read_csv('data/AJR02.csv',index_col=0)\n",
    "df.head()"
   ]
  },
  {
   "cell_type": "markdown",
   "metadata": {
    "slideshow": {
     "slide_type": "slide"
    }
   },
   "source": [
    "Let’s use a scatterplot to see whether any obvious relationship exists between GDP per capita and the protection against expropriation."
   ]
  },
  {
   "cell_type": "code",
   "execution_count": 4,
   "metadata": {
    "hide-output": false,
    "slideshow": {
     "slide_type": "fragment"
    }
   },
   "outputs": [
    {
     "data": {
      "image/png": "[encoded data removed]",
      "text/plain": [
       "<Figure size 720x432 with 1 Axes>"
      ]
     },
     "metadata": {},
     "output_type": "display_data"
    }
   ],
   "source": [
    "# Plot relationship between GDP and expropriation rate\n",
    "fig, ax = plt.subplots(1,1)\n",
    "ax.set_title('Figure 1: joint distribution of GDP and expropriation')\n",
    "df.plot(x='Exprop', y='GDP', kind='scatter', s=50, ax=ax);"
   ]
  },
  {
   "cell_type": "markdown",
   "metadata": {
    "slideshow": {
     "slide_type": "slide"
    }
   },
   "source": [
    "The plot shows a fairly strong positive relationship between\n",
    "protection against expropriation and log GDP per capita.\n",
    "\n",
    "Specifically, if higher protection against expropriation is a measure of\n",
    "institutional quality, then better institutions appear to be positively\n",
    "correlated with better economic outcomes (higher GDP per capita).\n",
    "\n",
    "Given the plot, choosing a linear model to describe this relationship\n",
    "seems like a reasonable assumption.\n",
    "\n",
    "We can write our model as\n",
    "\n",
    "$$\n",
    "{GDP}_i = \\beta_0 + \\beta_1 {Exprop}_i + \\varepsilon_i\n",
    "$$\n",
    "\n",
    "where:\n",
    "\n",
    "- $ \\beta_0 $ is the intercept of the linear trend line on the\n",
    "  y-axis  \n",
    "- $ \\beta_1 $ is the slope of the linear trend line, representing\n",
    "  the *marginal effect* of protection against risk on log GDP per\n",
    "  capita  \n",
    "- $ \\varepsilon_i $ is a random error term (deviations of observations from\n",
    "  the linear trend due to factors not included in the model)  "
   ]
  },
  {
   "cell_type": "markdown",
   "metadata": {
    "slideshow": {
     "slide_type": "slide"
    }
   },
   "source": [
    "The most common technique to estimate the parameters ($ \\beta $’s)\n",
    "of the linear model is Ordinary Least Squares (OLS).\n",
    "\n",
    "As the name implies, an OLS model is solved by finding the parameters\n",
    "that minimize *the sum of squared residuals*, i.e.\n",
    "\n",
    "$$\n",
    "\\underset{\\hat{\\beta}}{\\min} \\sum^N_{i=1}{\\hat{u}^2_i}\n",
    "$$\n",
    "\n",
    "where $ \\hat{u}_i $ is the difference between the observation and\n",
    "the predicted value of the dependent variable.\n",
    "\n",
    "To estimate the constant term $ \\beta_0 $, we need to add a column\n",
    "of 1’s to our dataset (consider the equation if $ \\beta_0 $ was\n",
    "replaced with $ \\beta_0 x_i $ and $ x_i = 1 $)"
   ]
  },
  {
   "cell_type": "markdown",
   "metadata": {
    "slideshow": {
     "slide_type": "slide"
    }
   },
   "source": [
    "Now we can construct our model in `statsmodels` using the OLS function.\n",
    "\n",
    "We will use `pandas` dataframes with `statsmodels`, however standard arrays can also be used as arguments"
   ]
  },
  {
   "cell_type": "code",
   "execution_count": 5,
   "metadata": {
    "hide-output": false,
    "slideshow": {
     "slide_type": "fragment"
    }
   },
   "outputs": [
    {
     "data": {
      "text/plain": [
       "statsmodels.regression.linear_model.OLS"
      ]
     },
     "execution_count": 5,
     "metadata": {},
     "output_type": "execute_result"
    }
   ],
   "source": [
    "# Regress GDP on Expropriation Rate\n",
    "reg1 = sm.OLS.from_formula('GDP ~ Exprop', df)\n",
    "type(reg1)"
   ]
  },
  {
   "cell_type": "markdown",
   "metadata": {
    "slideshow": {
     "slide_type": "slide"
    }
   },
   "source": [
    "So far we have simply constructed our model.\n",
    "\n",
    "We need to use `.fit()` to obtain parameter estimates\n",
    "$ \\hat{\\beta}_0 $ and $ \\hat{\\beta}_1 $"
   ]
  },
  {
   "cell_type": "code",
   "execution_count": 6,
   "metadata": {
    "hide-output": false,
    "slideshow": {
     "slide_type": "fragment"
    }
   },
   "outputs": [
    {
     "data": {
      "text/plain": [
       "statsmodels.regression.linear_model.RegressionResultsWrapper"
      ]
     },
     "execution_count": 6,
     "metadata": {},
     "output_type": "execute_result"
    }
   ],
   "source": [
    "# Fit regression\n",
    "results = reg1.fit()\n",
    "type(results)"
   ]
  },
  {
   "cell_type": "markdown",
   "metadata": {
    "slideshow": {
     "slide_type": "-"
    }
   },
   "source": [
    "We now have the fitted regression model stored in `results`."
   ]
  },
  {
   "cell_type": "markdown",
   "metadata": {
    "slideshow": {
     "slide_type": "slide"
    }
   },
   "source": [
    "To view the OLS regression results, we can call the `.summary()`\n",
    "method.\n",
    "\n",
    "Note that an observation was mistakenly dropped from the results in the\n",
    "original paper (see the note located in maketable2.do from Acemoglu’s webpage), and thus the\n",
    "coefficients differ slightly."
   ]
  },
  {
   "cell_type": "code",
   "execution_count": 7,
   "metadata": {
    "hide-output": false,
    "slideshow": {
     "slide_type": "fragment"
    }
   },
   "outputs": [
    {
     "data": {
      "text/html": [
       "<table class=\"simpletable\">\n",
       "<caption>OLS Regression Results</caption>\n",
       "<tr>\n",
       "  <th>Dep. Variable:</th>           <td>GDP</td>       <th>  R-squared:         </th> <td>   0.540</td>\n",
       "</tr>\n",
       "<tr>\n",
       "  <th>Model:</th>                   <td>OLS</td>       <th>  Adj. R-squared:    </th> <td>   0.532</td>\n",
       "</tr>\n",
       "<tr>\n",
       "  <th>Method:</th>             <td>Least Squares</td>  <th>  F-statistic:       </th> <td>   72.71</td>\n",
       "</tr>\n",
       "<tr>\n",
       "  <th>Date:</th>             <td>Thu, 23 Sep 2021</td> <th>  Prob (F-statistic):</th> <td>4.84e-12</td>\n",
       "</tr>\n",
       "<tr>\n",
       "  <th>Time:</th>                 <td>15:32:21</td>     <th>  Log-Likelihood:    </th> <td> -68.214</td>\n",
       "</tr>\n",
       "<tr>\n",
       "  <th>No. Observations:</th>      <td>    64</td>      <th>  AIC:               </th> <td>   140.4</td>\n",
       "</tr>\n",
       "<tr>\n",
       "  <th>Df Residuals:</th>          <td>    62</td>      <th>  BIC:               </th> <td>   144.7</td>\n",
       "</tr>\n",
       "<tr>\n",
       "  <th>Df Model:</th>              <td>     1</td>      <th>                     </th>     <td> </td>   \n",
       "</tr>\n",
       "<tr>\n",
       "  <th>Covariance Type:</th>      <td>nonrobust</td>    <th>                     </th>     <td> </td>   \n",
       "</tr>\n",
       "</table>\n",
       "<table class=\"simpletable\">\n",
       "<tr>\n",
       "      <td></td>         <th>coef</th>     <th>std err</th>      <th>t</th>      <th>P>|t|</th>  <th>[0.025</th>    <th>0.975]</th>  \n",
       "</tr>\n",
       "<tr>\n",
       "  <th>Intercept</th> <td>    4.6609</td> <td>    0.409</td> <td>   11.402</td> <td> 0.000</td> <td>    3.844</td> <td>    5.478</td>\n",
       "</tr>\n",
       "<tr>\n",
       "  <th>Exprop</th>    <td>    0.5220</td> <td>    0.061</td> <td>    8.527</td> <td> 0.000</td> <td>    0.400</td> <td>    0.644</td>\n",
       "</tr>\n",
       "</table>\n",
       "<table class=\"simpletable\">\n",
       "<tr>\n",
       "  <th>Omnibus:</th>       <td> 7.134</td> <th>  Durbin-Watson:     </th> <td>   2.081</td>\n",
       "</tr>\n",
       "<tr>\n",
       "  <th>Prob(Omnibus):</th> <td> 0.028</td> <th>  Jarque-Bera (JB):  </th> <td>   6.698</td>\n",
       "</tr>\n",
       "<tr>\n",
       "  <th>Skew:</th>          <td>-0.784</td> <th>  Prob(JB):          </th> <td>  0.0351</td>\n",
       "</tr>\n",
       "<tr>\n",
       "  <th>Kurtosis:</th>      <td> 3.234</td> <th>  Cond. No.          </th> <td>    31.2</td>\n",
       "</tr>\n",
       "</table><br/><br/>Warnings:<br/>[1] Standard Errors assume that the covariance matrix of the errors is correctly specified."
      ],
      "text/plain": [
       "<class 'statsmodels.iolib.summary.Summary'>\n",
       "\"\"\"\n",
       "                            OLS Regression Results                            \n",
       "==============================================================================\n",
       "Dep. Variable:                    GDP   R-squared:                       0.540\n",
       "Model:                            OLS   Adj. R-squared:                  0.532\n",
       "Method:                 Least Squares   F-statistic:                     72.71\n",
       "Date:                Thu, 23 Sep 2021   Prob (F-statistic):           4.84e-12\n",
       "Time:                        15:32:21   Log-Likelihood:                -68.214\n",
       "No. Observations:                  64   AIC:                             140.4\n",
       "Df Residuals:                      62   BIC:                             144.7\n",
       "Df Model:                           1                                         \n",
       "Covariance Type:            nonrobust                                         \n",
       "==============================================================================\n",
       "                 coef    std err          t      P>|t|      [0.025      0.975]\n",
       "------------------------------------------------------------------------------\n",
       "Intercept      4.6609      0.409     11.402      0.000       3.844       5.478\n",
       "Exprop         0.5220      0.061      8.527      0.000       0.400       0.644\n",
       "==============================================================================\n",
       "Omnibus:                        7.134   Durbin-Watson:                   2.081\n",
       "Prob(Omnibus):                  0.028   Jarque-Bera (JB):                6.698\n",
       "Skew:                          -0.784   Prob(JB):                       0.0351\n",
       "Kurtosis:                       3.234   Cond. No.                         31.2\n",
       "==============================================================================\n",
       "\n",
       "Warnings:\n",
       "[1] Standard Errors assume that the covariance matrix of the errors is correctly specified.\n",
       "\"\"\""
      ]
     },
     "execution_count": 7,
     "metadata": {},
     "output_type": "execute_result"
    }
   ],
   "source": [
    "results.summary()"
   ]
  },
  {
   "cell_type": "markdown",
   "metadata": {
    "slideshow": {
     "slide_type": "slide"
    }
   },
   "source": [
    "From our results, we see that\n",
    "\n",
    "- The intercept $ \\hat{\\beta}_0 = 4.63 $.  \n",
    "- The slope $ \\hat{\\beta}_1 = 0.53 $.  \n",
    "- The positive $ \\hat{\\beta}_1 $ parameter estimate implies that.\n",
    "  institutional quality has a positive effect on economic outcomes, as\n",
    "  we saw in the figure.  \n",
    "- The p-value of 0.000 for $ \\hat{\\beta}_1 $ implies that the\n",
    "  effect of institutions on GDP is statistically significant (using p <\n",
    "  0.05 as a rejection rule).  \n",
    "- The R-squared value of 0.611 indicates that around 61% of variation\n",
    "  in log GDP per capita is explained by protection against\n",
    "  expropriation.  "
   ]
  },
  {
   "cell_type": "markdown",
   "metadata": {
    "slideshow": {
     "slide_type": "slide"
    }
   },
   "source": [
    "Using our parameter estimates, we can now write our estimated\n",
    "relationship as\n",
    "\n",
    "$$\n",
    "\\widehat{GDP}_i = 4.63 + 0.53 \\ {Exprop}_i\n",
    "$$\n",
    "\n",
    "This equation describes the line that best fits our data, as shown in\n",
    "Figure 2."
   ]
  },
  {
   "cell_type": "markdown",
   "metadata": {
    "slideshow": {
     "slide_type": "slide"
    }
   },
   "source": [
    "We can use this equation to predict the level of log GDP per capita for\n",
    "a value of the index of expropriation protection.\n",
    "\n",
    "For example, for a country with an index value of 6.51 (the average for\n",
    "the dataset), we find that their predicted level of log GDP per capita\n",
    "in 1995 is 8.09."
   ]
  },
  {
   "cell_type": "code",
   "execution_count": 8,
   "metadata": {
    "hide-output": false
   },
   "outputs": [
    {
     "data": {
      "text/plain": [
       "6.5160937500000005"
      ]
     },
     "execution_count": 8,
     "metadata": {},
     "output_type": "execute_result"
    }
   ],
   "source": [
    "mean_expr = np.mean(df['Exprop'])\n",
    "mean_expr"
   ]
  },
  {
   "cell_type": "code",
   "execution_count": 9,
   "metadata": {
    "hide-output": false
   },
   "outputs": [
    {
     "data": {
      "text/plain": [
       "8.062499999999996"
      ]
     },
     "execution_count": 9,
     "metadata": {},
     "output_type": "execute_result"
    }
   ],
   "source": [
    "predicted_logpdp95 = results.params[0] + results.params[1] * mean_expr\n",
    "predicted_logpdp95"
   ]
  },
  {
   "cell_type": "markdown",
   "metadata": {
    "slideshow": {
     "slide_type": "slide"
    }
   },
   "source": [
    "An easier (and more accurate) way to obtain this result is to use\n",
    "`.predict()` and set $ constant = 1 $ and\n",
    "$ {Exprop}_i = mean\\_expr $"
   ]
  },
  {
   "cell_type": "code",
   "execution_count": null,
   "metadata": {
    "hide-output": false
   },
   "outputs": [],
   "source": [
    "results.predict(exog=[1, mean_expr])"
   ]
  },
  {
   "cell_type": "markdown",
   "metadata": {
    "slideshow": {
     "slide_type": "slide"
    }
   },
   "source": [
    "We can obtain an array of predicted $ {GDP}_i $ for every value\n",
    "of $ {Exprop}_i $ in our dataset by calling `.predict()` on our\n",
    "results.\n",
    "\n",
    "Plotting the predicted values against $ {Exprop}_i $ shows that the\n",
    "predicted values lie along the linear line that we fitted above.\n",
    "\n",
    "The observed values of $ {GDP}_i $ are also plotted for\n",
    "comparison purposes"
   ]
  },
  {
   "cell_type": "code",
   "execution_count": 10,
   "metadata": {
    "hide-output": false,
    "slideshow": {
     "slide_type": "notes"
    }
   },
   "outputs": [
    {
     "name": "stdout",
     "output_type": "stream",
     "text": [
      "ERROR! Session/line number was not unique in"
     ]
    }
   ],
   "source": [
    "# Make first new figure\n",
    "def make_new_fig_2():\n",
    "\n",
    "    # Init figure\n",
    "    fig, ax = plt.subplots(1,1)\n",
    "    ax.set_title('Figure 2: OLS predicted values')\n",
    "\n",
    "    # Drop missing observations from whole sample\n",
    "    df_plot = df.dropna(subset=['GDP', 'Exprop'])\n",
    "    sns.regplot(x=df_plot['Exprop'], y=df_plot['GDP'], ax=ax, order=1, ci=None, line_kws={'color':'r'})\n",
    "\n",
    "    ax.legend(['predicted', 'observed'])\n",
    "    ax.set_xlabel('Exprop')\n",
    "    ax.set_ylabel('GDP')\n",
    "    plt.show()"
   ]
  },
  {
   "cell_type": "code",
   "execution_count": 11,
   "metadata": {
    "slideshow": {
     "slide_type": "fragment"
    }
   },
   "outputs": [
    {
     "name": "stdout",
     "output_type": "stream",
     "text": [
      " database. History logging moved to new session 103\n"
     ]
    },
    {
     "data": {
      "image/png": "[encoded data removed]",
      "text/plain": [
       "<Figure size 720x432 with 1 Axes>"
      ]
     },
     "metadata": {},
     "output_type": "display_data"
    }
   ],
   "source": [
    "make_new_fig_2()"
   ]
  },
  {
   "cell_type": "markdown",
   "metadata": {
    "slideshow": {
     "slide_type": "slide"
    }
   },
   "source": [
    "## 2.2 Extending the Linear Regression Model\n",
    "\n",
    "[*go to index*](#/1)"
   ]
  },
  {
   "cell_type": "markdown",
   "metadata": {
    "slideshow": {
     "slide_type": "slide"
    }
   },
   "source": [
    "So far we have only accounted for institutions affecting economic performance - almost certainly there are numerous other factors affecting GDP that are not included in our model.\n",
    "\n",
    "Leaving out variables that affect $ GDP_i $ will result in **omitted variable bias**, yielding biased and inconsistent parameter estimates.\n",
    "\n",
    "We can extend our bivariate regression model to a **multivariate regression model** by adding in other factors that may affect $ GDP_i $.\n",
    "\n",
    "[[AJR01]](https://python-programming.quantecon.org/zreferences.html#acemoglu2001) consider other factors such as:\n",
    "\n",
    "- the effect of climate on economic outcomes; latitude is used to proxy\n",
    "  this  \n",
    "- differences that affect both economic performance and institutions,\n",
    "  eg. cultural, historical, etc.; controlled for with the use of\n",
    "  continent dummies  "
   ]
  },
  {
   "cell_type": "markdown",
   "metadata": {
    "slideshow": {
     "slide_type": "slide"
    }
   },
   "source": [
    "Let’s estimate some of the extended models considered in the paper\n",
    "(Table 2) using data from `maketable2.dta`"
   ]
  },
  {
   "cell_type": "code",
   "execution_count": 12,
   "metadata": {
    "hide-output": false,
    "slideshow": {
     "slide_type": "fragment"
    }
   },
   "outputs": [],
   "source": [
    "# Add constant term to dataset\n",
    "df['const'] = 1\n",
    "\n",
    "# Create lists of variables to be used in each regression\n",
    "X1 = df[['const', 'Exprop']]\n",
    "X2 = df[['const', 'Exprop', 'Latitude', 'Latitude2']]\n",
    "X3 = df[['const', 'Exprop', 'Latitude', 'Latitude2', 'Asia', 'Africa', 'Namer', 'Samer']]\n",
    "\n",
    "# Estimate an OLS regression for each set of variables\n",
    "reg1 = sm.OLS(df['GDP'], X1, missing='drop').fit()\n",
    "reg2 = sm.OLS(df['GDP'], X2, missing='drop').fit()\n",
    "reg3 = sm.OLS(df['GDP'], X3, missing='drop').fit()"
   ]
  },
  {
   "cell_type": "markdown",
   "metadata": {
    "slideshow": {
     "slide_type": "slide"
    }
   },
   "source": [
    "Now that we have fitted our model, we will use `summary_col` to\n",
    "display the results in a single table (model numbers correspond to those\n",
    "in the paper)"
   ]
  },
  {
   "cell_type": "code",
   "execution_count": 13,
   "metadata": {
    "hide-output": false
   },
   "outputs": [
    {
     "data": {
      "text/html": [
       "<table class=\"simpletable\">\n",
       "<tr>\n",
       "          <td></td>         <th>Model 1</th> <th>Model 2</th> <th>Model 3</th>\n",
       "</tr>\n",
       "<tr>\n",
       "  <th>const</th>            <td>4.66***</td> <td>4.55***</td> <td>5.95***</td>\n",
       "</tr>\n",
       "<tr>\n",
       "  <th></th>                 <td>(0.41)</td>  <td>(0.45)</td>  <td>(0.68)</td> \n",
       "</tr>\n",
       "<tr>\n",
       "  <th>Exprop</th>           <td>0.52***</td> <td>0.49***</td> <td>0.40***</td>\n",
       "</tr>\n",
       "<tr>\n",
       "  <th></th>                 <td>(0.06)</td>  <td>(0.07)</td>  <td>(0.06)</td> \n",
       "</tr>\n",
       "<tr>\n",
       "  <th>Latitude</th>            <td></td>      <td>2.16</td>    <td>0.42</td>  \n",
       "</tr>\n",
       "<tr>\n",
       "  <th></th>                    <td></td>     <td>(1.68)</td>  <td>(1.47)</td> \n",
       "</tr>\n",
       "<tr>\n",
       "  <th>Latitude2</th>           <td></td>      <td>-2.12</td>   <td>0.44</td>  \n",
       "</tr>\n",
       "<tr>\n",
       "  <th></th>                    <td></td>     <td>(2.86)</td>  <td>(2.48)</td> \n",
       "</tr>\n",
       "<tr>\n",
       "  <th>Africa</th>              <td></td>        <td></td>     <td>-1.06**</td>\n",
       "</tr>\n",
       "<tr>\n",
       "  <th></th>                    <td></td>        <td></td>     <td>(0.41)</td> \n",
       "</tr>\n",
       "<tr>\n",
       "  <th>Asia</th>                <td></td>        <td></td>     <td>-0.74*</td> \n",
       "</tr>\n",
       "<tr>\n",
       "  <th></th>                    <td></td>        <td></td>     <td>(0.42)</td> \n",
       "</tr>\n",
       "<tr>\n",
       "  <th>Namer</th>               <td></td>        <td></td>      <td>-0.17</td> \n",
       "</tr>\n",
       "<tr>\n",
       "  <th></th>                    <td></td>        <td></td>     <td>(0.40)</td> \n",
       "</tr>\n",
       "<tr>\n",
       "  <th>Samer</th>               <td></td>        <td></td>      <td>-0.12</td> \n",
       "</tr>\n",
       "<tr>\n",
       "  <th></th>                    <td></td>        <td></td>     <td>(0.42)</td> \n",
       "</tr>\n",
       "<tr>\n",
       "  <th>No. observations</th>   <td>64</td>      <td>64</td>      <td>64</td>   \n",
       "</tr>\n",
       "</table>"
      ],
      "text/plain": [
       "<class 'statsmodels.iolib.summary2.Summary'>\n",
       "\"\"\"\n",
       "\n",
       "========================================\n",
       "                 Model 1 Model 2 Model 3\n",
       "----------------------------------------\n",
       "const            4.66*** 4.55*** 5.95***\n",
       "                 (0.41)  (0.45)  (0.68) \n",
       "Exprop           0.52*** 0.49*** 0.40***\n",
       "                 (0.06)  (0.07)  (0.06) \n",
       "Latitude                 2.16    0.42   \n",
       "                         (1.68)  (1.47) \n",
       "Latitude2                -2.12   0.44   \n",
       "                         (2.86)  (2.48) \n",
       "Africa                           -1.06**\n",
       "                                 (0.41) \n",
       "Asia                             -0.74* \n",
       "                                 (0.42) \n",
       "Namer                            -0.17  \n",
       "                                 (0.40) \n",
       "Samer                            -0.12  \n",
       "                                 (0.42) \n",
       "No. observations 64      64      64     \n",
       "========================================\n",
       "Standard errors in parentheses.\n",
       "* p<.1, ** p<.05, ***p<.01\n",
       "\"\"\""
      ]
     },
     "execution_count": 13,
     "metadata": {},
     "output_type": "execute_result"
    }
   ],
   "source": [
    "info_dict={'No. observations' : lambda x: f\"{int(x.nobs):d}\"}\n",
    "\n",
    "results_table = summary_col(results=[reg1,reg2,reg3],\n",
    "                            float_format='%0.2f',\n",
    "                            stars = True,\n",
    "                            model_names=['Model 1','Model 2','Model 3'],\n",
    "                            info_dict=info_dict,\n",
    "                            regressor_order=['const','Exprop','Latitude','Latitude2'])\n",
    "\n",
    "results_table"
   ]
  },
  {
   "cell_type": "markdown",
   "metadata": {
    "slideshow": {
     "slide_type": "slide"
    }
   },
   "source": [
    "## 2.3 Endogeneity\n",
    "\n",
    "[*go to index*](#/1)"
   ]
  },
  {
   "cell_type": "markdown",
   "metadata": {
    "slideshow": {
     "slide_type": "slide"
    }
   },
   "source": [
    "As [[AJR01]](https://python-programming.quantecon.org/zreferences.html#acemoglu2001) discuss, the OLS models likely suffer from **endogeneity** issues, resulting in biased and inconsistent model estimates.\n",
    "\n",
    "Namely, there is likely a two-way relationship between institutions an economic outcomes:\n",
    "\n",
    "- richer countries may be able to afford or prefer better institutions  \n",
    "- variables that affect income may also be correlated with institutional differences  \n",
    "- the construction of the index may be biased; analysts may be biased towards seeing countries with higher income having better institutions  "
   ]
  },
  {
   "cell_type": "markdown",
   "metadata": {
    "slideshow": {
     "slide_type": "slide"
    }
   },
   "source": [
    "To deal with endogeneity, we can use **two-stage least squares (2SLS) regression**, which is an extension of OLS regression.\n",
    "\n",
    "This method requires replacing the endogenous variable $ {Exprop}_i $ with a variable that is:\n",
    "\n",
    "1. correlated with $ {Exprop}_i $  \n",
    "1. not correlated with the error term (ie. it should not directly affect the dependent variable, otherwise it would be correlated with $ u_i $ due to omitted variable bias)  "
   ]
  },
  {
   "cell_type": "markdown",
   "metadata": {
    "slideshow": {
     "slide_type": "slide"
    }
   },
   "source": [
    "We can write our model as\n",
    "\n",
    "$$\n",
    "{GDP}_i = \\beta_0 + \\beta_1 {Exprop}_i + \\varepsilon_i \\\\\n",
    "{Exprop}_i = \\delta_0 + \\delta_1 {logMort}_i + v_i\n",
    "$$\n",
    "\n",
    "The new set of regressors `logMort` is called an **instrument**, which aims to remove endogeneity in our proxy of institutional differences."
   ]
  },
  {
   "cell_type": "markdown",
   "metadata": {
    "slideshow": {
     "slide_type": "slide"
    }
   },
   "source": [
    "The main contribution of [[AJR01]](https://python-programming.quantecon.org/zreferences.html#acemoglu2001) is the use of settler mortality rates to instrument for institutional differences.\n",
    "\n",
    "They hypothesize that higher mortality rates of colonizers led to the establishment of institutions that were more extractive in nature (less protection against expropriation), and these institutions still persist today."
   ]
  },
  {
   "cell_type": "markdown",
   "metadata": {
    "slideshow": {
     "slide_type": "slide"
    }
   },
   "source": [
    "Using a scatterplot (Figure 3 in [[AJR01]](https://python-programming.quantecon.org/zreferences.html#acemoglu2001)), we can see protection against expropriation is negatively correlated with settler mortality rates, coinciding with the authors’ hypothesis and satisfying the first condition of a valid instrument."
   ]
  },
  {
   "cell_type": "code",
   "execution_count": 14,
   "metadata": {
    "slideshow": {
     "slide_type": "notes"
    }
   },
   "outputs": [],
   "source": [
    "# Dropping NA's is required to use numpy's polyfit\n",
    "df2 = df.dropna(subset=['logMort', 'Exprop'])\n",
    "X = df2['logMort']\n",
    "y = df2['Exprop']"
   ]
  },
  {
   "cell_type": "code",
   "execution_count": 15,
   "metadata": {
    "hide-output": false,
    "slideshow": {
     "slide_type": "notes"
    }
   },
   "outputs": [],
   "source": [
    "# Make new figure 2\n",
    "def make_new_figure_2():\n",
    "\n",
    "    # Init figure\n",
    "    fig, ax = plt.subplots(1,1)\n",
    "    ax.set_title('Figure 3: First-stage')\n",
    "\n",
    "    # Fit a linear trend line\n",
    "    sns.regplot(x=X, y=y, ax=ax, order=1, scatter=True, ci=None, line_kws={\"color\": \"r\"})\n",
    "\n",
    "    ax.set_xlim([1.8,8.4])\n",
    "    ax.set_ylim([3.3,10.4])\n",
    "    ax.set_xlabel('Log of Settler Mortality')\n",
    "    ax.set_ylabel('Average Expropriation Risk 1985-95');"
   ]
  },
  {
   "cell_type": "code",
   "execution_count": 16,
   "metadata": {
    "slideshow": {
     "slide_type": "fragment"
    }
   },
   "outputs": [
    {
     "data": {
      "image/png": "[encoded data removed]",
      "text/plain": [
       "<Figure size 720x432 with 1 Axes>"
      ]
     },
     "metadata": {},
     "output_type": "display_data"
    }
   ],
   "source": [
    "make_new_figure_2()"
   ]
  },
  {
   "cell_type": "markdown",
   "metadata": {
    "slideshow": {
     "slide_type": "slide"
    }
   },
   "source": [
    "The second condition may not be satisfied if settler mortality rates in the 17th to 19th centuries have a direct effect on current GDP (in addition to their indirect effect through institutions).\n",
    "\n",
    "For example, settler mortality rates may be related to the current disease environment in a country, which could affect current economic performance.\n",
    "\n",
    "[[AJR01]](https://python-programming.quantecon.org/zreferences.html#acemoglu2001) argue this is unlikely because:\n",
    "\n",
    "- The majority of settler deaths were due to malaria and yellow fever\n",
    "  and had a limited effect on local people.  \n",
    "- The disease burden on local people in Africa or India, for example,\n",
    "  did not appear to be higher than average, supported by relatively\n",
    "  high population densities in these areas before colonization.  \n",
    "\n",
    "\n",
    "As we appear to have a valid instrument, we can use 2SLS regression to\n",
    "obtain consistent and unbiased parameter estimates."
   ]
  },
  {
   "cell_type": "markdown",
   "metadata": {
    "slideshow": {
     "slide_type": "slide"
    }
   },
   "source": [
    "### First stage\n",
    "\n",
    "The first stage involves regressing the endogenous variable\n",
    "($ {Exprop}_i $) on the instrument.\n",
    "\n",
    "The instrument is the set of all exogenous variables in our model (and\n",
    "not just the variable we have replaced).\n",
    "\n",
    "Using model 1 as an example, our instrument is simply a constant and\n",
    "settler mortality rates $ {logMort}_i $.\n",
    "\n",
    "Therefore, we will estimate the first-stage regression as\n",
    "\n",
    "$$\n",
    "{Exprop}_i = \\delta_0 + \\delta_1 {logMort}_i + v_i\n",
    "$$"
   ]
  },
  {
   "cell_type": "code",
   "execution_count": 17,
   "metadata": {
    "hide-output": false,
    "slideshow": {
     "slide_type": "slide"
    }
   },
   "outputs": [
    {
     "data": {
      "text/html": [
       "<table class=\"simpletable\">\n",
       "<caption>OLS Regression Results</caption>\n",
       "<tr>\n",
       "  <th>Dep. Variable:</th>         <td>Exprop</td>      <th>  R-squared:         </th> <td>   0.274</td>\n",
       "</tr>\n",
       "<tr>\n",
       "  <th>Model:</th>                   <td>OLS</td>       <th>  Adj. R-squared:    </th> <td>   0.262</td>\n",
       "</tr>\n",
       "<tr>\n",
       "  <th>Method:</th>             <td>Least Squares</td>  <th>  F-statistic:       </th> <td>   23.34</td>\n",
       "</tr>\n",
       "<tr>\n",
       "  <th>Date:</th>             <td>Thu, 23 Sep 2021</td> <th>  Prob (F-statistic):</th> <td>9.27e-06</td>\n",
       "</tr>\n",
       "<tr>\n",
       "  <th>Time:</th>                 <td>15:32:21</td>     <th>  Log-Likelihood:    </th> <td> -104.69</td>\n",
       "</tr>\n",
       "<tr>\n",
       "  <th>No. Observations:</th>      <td>    64</td>      <th>  AIC:               </th> <td>   213.4</td>\n",
       "</tr>\n",
       "<tr>\n",
       "  <th>Df Residuals:</th>          <td>    62</td>      <th>  BIC:               </th> <td>   217.7</td>\n",
       "</tr>\n",
       "<tr>\n",
       "  <th>Df Model:</th>              <td>     1</td>      <th>                     </th>     <td> </td>   \n",
       "</tr>\n",
       "<tr>\n",
       "  <th>Covariance Type:</th>      <td>nonrobust</td>    <th>                     </th>     <td> </td>   \n",
       "</tr>\n",
       "</table>\n",
       "<table class=\"simpletable\">\n",
       "<tr>\n",
       "     <td></td>        <th>coef</th>     <th>std err</th>      <th>t</th>      <th>P>|t|</th>  <th>[0.025</th>    <th>0.975]</th>  \n",
       "</tr>\n",
       "<tr>\n",
       "  <th>const</th>   <td>    9.3659</td> <td>    0.611</td> <td>   15.339</td> <td> 0.000</td> <td>    8.145</td> <td>   10.586</td>\n",
       "</tr>\n",
       "<tr>\n",
       "  <th>logMort</th> <td>   -0.6133</td> <td>    0.127</td> <td>   -4.831</td> <td> 0.000</td> <td>   -0.867</td> <td>   -0.360</td>\n",
       "</tr>\n",
       "</table>\n",
       "<table class=\"simpletable\">\n",
       "<tr>\n",
       "  <th>Omnibus:</th>       <td> 0.047</td> <th>  Durbin-Watson:     </th> <td>   1.592</td>\n",
       "</tr>\n",
       "<tr>\n",
       "  <th>Prob(Omnibus):</th> <td> 0.977</td> <th>  Jarque-Bera (JB):  </th> <td>   0.154</td>\n",
       "</tr>\n",
       "<tr>\n",
       "  <th>Skew:</th>          <td> 0.060</td> <th>  Prob(JB):          </th> <td>   0.926</td>\n",
       "</tr>\n",
       "<tr>\n",
       "  <th>Kurtosis:</th>      <td> 2.792</td> <th>  Cond. No.          </th> <td>    19.4</td>\n",
       "</tr>\n",
       "</table><br/><br/>Warnings:<br/>[1] Standard Errors assume that the covariance matrix of the errors is correctly specified."
      ],
      "text/plain": [
       "<class 'statsmodels.iolib.summary.Summary'>\n",
       "\"\"\"\n",
       "                            OLS Regression Results                            \n",
       "==============================================================================\n",
       "Dep. Variable:                 Exprop   R-squared:                       0.274\n",
       "Model:                            OLS   Adj. R-squared:                  0.262\n",
       "Method:                 Least Squares   F-statistic:                     23.34\n",
       "Date:                Thu, 23 Sep 2021   Prob (F-statistic):           9.27e-06\n",
       "Time:                        15:32:21   Log-Likelihood:                -104.69\n",
       "No. Observations:                  64   AIC:                             213.4\n",
       "Df Residuals:                      62   BIC:                             217.7\n",
       "Df Model:                           1                                         \n",
       "Covariance Type:            nonrobust                                         \n",
       "==============================================================================\n",
       "                 coef    std err          t      P>|t|      [0.025      0.975]\n",
       "------------------------------------------------------------------------------\n",
       "const          9.3659      0.611     15.339      0.000       8.145      10.586\n",
       "logMort       -0.6133      0.127     -4.831      0.000      -0.867      -0.360\n",
       "==============================================================================\n",
       "Omnibus:                        0.047   Durbin-Watson:                   1.592\n",
       "Prob(Omnibus):                  0.977   Jarque-Bera (JB):                0.154\n",
       "Skew:                           0.060   Prob(JB):                        0.926\n",
       "Kurtosis:                       2.792   Cond. No.                         19.4\n",
       "==============================================================================\n",
       "\n",
       "Warnings:\n",
       "[1] Standard Errors assume that the covariance matrix of the errors is correctly specified.\n",
       "\"\"\""
      ]
     },
     "execution_count": 17,
     "metadata": {},
     "output_type": "execute_result"
    }
   ],
   "source": [
    "# Add a constant variable\n",
    "df['const'] = 1\n",
    "\n",
    "# Fit the first stage regression and print summary\n",
    "results_fs = sm.OLS(df['Exprop'],\n",
    "                    df.loc[:,['const', 'logMort']],\n",
    "                    missing='drop').fit()\n",
    "results_fs.summary()"
   ]
  },
  {
   "cell_type": "markdown",
   "metadata": {
    "slideshow": {
     "slide_type": "slide"
    }
   },
   "source": [
    "### Second stage\n",
    "\n",
    "We need to retrieve the predicted values of $ {Exprop}_i $ using\n",
    "`.predict()`.\n",
    "\n",
    "We then replace the endogenous variable $ {Exprop}_i $ with the\n",
    "predicted values $ \\widehat{Exprop}_i $ in the original linear model.\n",
    "\n",
    "Our second stage regression is thus\n",
    "\n",
    "$$\n",
    "{GDP}_i = \\beta_0 + \\beta_1 \\widehat{Exprop}_i + u_i\n",
    "$$"
   ]
  },
  {
   "cell_type": "code",
   "execution_count": 18,
   "metadata": {
    "hide-output": false,
    "slideshow": {
     "slide_type": "slide"
    }
   },
   "outputs": [
    {
     "data": {
      "text/html": [
       "<table class=\"simpletable\">\n",
       "<caption>OLS Regression Results</caption>\n",
       "<tr>\n",
       "  <th>Dep. Variable:</th>           <td>GDP</td>       <th>  R-squared:         </th> <td>   0.462</td>\n",
       "</tr>\n",
       "<tr>\n",
       "  <th>Model:</th>                   <td>OLS</td>       <th>  Adj. R-squared:    </th> <td>   0.453</td>\n",
       "</tr>\n",
       "<tr>\n",
       "  <th>Method:</th>             <td>Least Squares</td>  <th>  F-statistic:       </th> <td>   53.24</td>\n",
       "</tr>\n",
       "<tr>\n",
       "  <th>Date:</th>             <td>Thu, 23 Sep 2021</td> <th>  Prob (F-statistic):</th> <td>6.58e-10</td>\n",
       "</tr>\n",
       "<tr>\n",
       "  <th>Time:</th>                 <td>15:32:21</td>     <th>  Log-Likelihood:    </th> <td> -73.208</td>\n",
       "</tr>\n",
       "<tr>\n",
       "  <th>No. Observations:</th>      <td>    64</td>      <th>  AIC:               </th> <td>   150.4</td>\n",
       "</tr>\n",
       "<tr>\n",
       "  <th>Df Residuals:</th>          <td>    62</td>      <th>  BIC:               </th> <td>   154.7</td>\n",
       "</tr>\n",
       "<tr>\n",
       "  <th>Df Model:</th>              <td>     1</td>      <th>                     </th>     <td> </td>   \n",
       "</tr>\n",
       "<tr>\n",
       "  <th>Covariance Type:</th>      <td>nonrobust</td>    <th>                     </th>     <td> </td>   \n",
       "</tr>\n",
       "</table>\n",
       "<table class=\"simpletable\">\n",
       "<tr>\n",
       "          <td></td>            <th>coef</th>     <th>std err</th>      <th>t</th>      <th>P>|t|</th>  <th>[0.025</th>    <th>0.975]</th>  \n",
       "</tr>\n",
       "<tr>\n",
       "  <th>Intercept</th>        <td>    2.0448</td> <td>    0.830</td> <td>    2.463</td> <td> 0.017</td> <td>    0.385</td> <td>    3.705</td>\n",
       "</tr>\n",
       "<tr>\n",
       "  <th>predicted_Exprop</th> <td>    0.9235</td> <td>    0.127</td> <td>    7.297</td> <td> 0.000</td> <td>    0.671</td> <td>    1.177</td>\n",
       "</tr>\n",
       "</table>\n",
       "<table class=\"simpletable\">\n",
       "<tr>\n",
       "  <th>Omnibus:</th>       <td>10.463</td> <th>  Durbin-Watson:     </th> <td>   2.052</td>\n",
       "</tr>\n",
       "<tr>\n",
       "  <th>Prob(Omnibus):</th> <td> 0.005</td> <th>  Jarque-Bera (JB):  </th> <td>  10.693</td>\n",
       "</tr>\n",
       "<tr>\n",
       "  <th>Skew:</th>          <td>-0.806</td> <th>  Prob(JB):          </th> <td> 0.00476</td>\n",
       "</tr>\n",
       "<tr>\n",
       "  <th>Kurtosis:</th>      <td> 4.188</td> <th>  Cond. No.          </th> <td>    57.8</td>\n",
       "</tr>\n",
       "</table><br/><br/>Warnings:<br/>[1] Standard Errors assume that the covariance matrix of the errors is correctly specified."
      ],
      "text/plain": [
       "<class 'statsmodels.iolib.summary.Summary'>\n",
       "\"\"\"\n",
       "                            OLS Regression Results                            \n",
       "==============================================================================\n",
       "Dep. Variable:                    GDP   R-squared:                       0.462\n",
       "Model:                            OLS   Adj. R-squared:                  0.453\n",
       "Method:                 Least Squares   F-statistic:                     53.24\n",
       "Date:                Thu, 23 Sep 2021   Prob (F-statistic):           6.58e-10\n",
       "Time:                        15:32:21   Log-Likelihood:                -73.208\n",
       "No. Observations:                  64   AIC:                             150.4\n",
       "Df Residuals:                      62   BIC:                             154.7\n",
       "Df Model:                           1                                         \n",
       "Covariance Type:            nonrobust                                         \n",
       "====================================================================================\n",
       "                       coef    std err          t      P>|t|      [0.025      0.975]\n",
       "------------------------------------------------------------------------------------\n",
       "Intercept            2.0448      0.830      2.463      0.017       0.385       3.705\n",
       "predicted_Exprop     0.9235      0.127      7.297      0.000       0.671       1.177\n",
       "==============================================================================\n",
       "Omnibus:                       10.463   Durbin-Watson:                   2.052\n",
       "Prob(Omnibus):                  0.005   Jarque-Bera (JB):               10.693\n",
       "Skew:                          -0.806   Prob(JB):                      0.00476\n",
       "Kurtosis:                       4.188   Cond. No.                         57.8\n",
       "==============================================================================\n",
       "\n",
       "Warnings:\n",
       "[1] Standard Errors assume that the covariance matrix of the errors is correctly specified.\n",
       "\"\"\""
      ]
     },
     "execution_count": 18,
     "metadata": {},
     "output_type": "execute_result"
    }
   ],
   "source": [
    "# Second stage\n",
    "df['predicted_Exprop'] = results_fs.predict()\n",
    "results_ss = sm.OLS.from_formula('GDP ~ predicted_Exprop', df).fit()\n",
    "\n",
    "# Print\n",
    "results_ss.summary()"
   ]
  },
  {
   "cell_type": "markdown",
   "metadata": {
    "slideshow": {
     "slide_type": "slide"
    }
   },
   "source": [
    "The second-stage regression results give us an unbiased and consistent\n",
    "estimate of the effect of institutions on economic outcomes.\n",
    "\n",
    "The result suggests a stronger positive relationship than what the OLS\n",
    "results indicated.\n",
    "\n",
    "Note that while our parameter estimates are correct, our standard errors\n",
    "are not and for this reason, computing 2SLS ‘manually’ (in stages with\n",
    "OLS) is not recommended.\n",
    "\n",
    "We can correctly estimate a 2SLS regression in one step using the\n",
    "[linearmodels](https://github.com/bashtage/linearmodels) package, an extension of `statsmodels`\n",
    "\n",
    "Note that when using `IV2SLS`, the exogenous and instrument variables\n",
    "are split up in the function arguments (whereas before the instrument\n",
    "included exogenous variables)"
   ]
  },
  {
   "cell_type": "code",
   "execution_count": 19,
   "metadata": {
    "hide-output": false,
    "slideshow": {
     "slide_type": "slide"
    }
   },
   "outputs": [
    {
     "data": {
      "text/html": [
       "<table class=\"simpletable\">\n",
       "<caption>IV-2SLS Estimation Summary</caption>\n",
       "<tr>\n",
       "  <th>Dep. Variable:</th>           <td>GDP</td>       <th>  R-squared:         </th> <td>0.2205</td> \n",
       "</tr>\n",
       "<tr>\n",
       "  <th>Estimator:</th>             <td>IV-2SLS</td>     <th>  Adj. R-squared:    </th> <td>0.2079</td> \n",
       "</tr>\n",
       "<tr>\n",
       "  <th>No. Observations:</th>        <td>64</td>        <th>  F-statistic:       </th> <td>29.811</td> \n",
       "</tr>\n",
       "<tr>\n",
       "  <th>Date:</th>             <td>Thu, Sep 23 2021</td> <th>  P-value (F-stat)   </th> <td>0.0000</td> \n",
       "</tr>\n",
       "<tr>\n",
       "  <th>Time:</th>                 <td>15:32:21</td>     <th>  Distribution:      </th> <td>chi2(1)</td>\n",
       "</tr>\n",
       "<tr>\n",
       "  <th>Cov. Estimator:</th>        <td>robust</td>      <th>                     </th>    <td></td>    \n",
       "</tr>\n",
       "<tr>\n",
       "  <th></th>                          <td></td>         <th>                     </th>    <td></td>    \n",
       "</tr>\n",
       "</table>\n",
       "<table class=\"simpletable\">\n",
       "<caption>Parameter Estimates</caption>\n",
       "<tr>\n",
       "     <td></td>    <th>Parameter</th> <th>Std. Err.</th> <th>T-stat</th> <th>P-value</th> <th>Lower CI</th> <th>Upper CI</th>\n",
       "</tr>\n",
       "<tr>\n",
       "  <th>const</th>   <td>2.0448</td>    <td>1.1273</td>   <td>1.8139</td> <td>0.0697</td>   <td>-0.1647</td>  <td>4.2542</td> \n",
       "</tr>\n",
       "<tr>\n",
       "  <th>Exprop</th>  <td>0.9235</td>    <td>0.1691</td>   <td>5.4599</td> <td>0.0000</td>   <td>0.5920</td>   <td>1.2550</td> \n",
       "</tr>\n",
       "</table><br/><br/>Endogenous: Exprop<br/>Instruments: logMort<br/>Robust Covariance (Heteroskedastic)<br/>Debiased: False"
      ],
      "text/plain": [
       "<class 'linearmodels.compat.statsmodels.Summary'>\n",
       "\"\"\"\n",
       "                          IV-2SLS Estimation Summary                          \n",
       "==============================================================================\n",
       "Dep. Variable:                    GDP   R-squared:                      0.2205\n",
       "Estimator:                    IV-2SLS   Adj. R-squared:                 0.2079\n",
       "No. Observations:                  64   F-statistic:                    29.811\n",
       "Date:                Thu, Sep 23 2021   P-value (F-stat)                0.0000\n",
       "Time:                        15:32:21   Distribution:                  chi2(1)\n",
       "Cov. Estimator:                robust                                         \n",
       "                                                                              \n",
       "                             Parameter Estimates                              \n",
       "==============================================================================\n",
       "            Parameter  Std. Err.     T-stat    P-value    Lower CI    Upper CI\n",
       "------------------------------------------------------------------------------\n",
       "const          2.0448     1.1273     1.8139     0.0697     -0.1647      4.2542\n",
       "Exprop         0.9235     0.1691     5.4599     0.0000      0.5920      1.2550\n",
       "==============================================================================\n",
       "\n",
       "Endogenous: Exprop\n",
       "Instruments: logMort\n",
       "Robust Covariance (Heteroskedastic)\n",
       "Debiased: False\n",
       "\"\"\""
      ]
     },
     "execution_count": 19,
     "metadata": {},
     "output_type": "execute_result"
    }
   ],
   "source": [
    "# IV regression\n",
    "iv = IV2SLS(dependent=df['GDP'],\n",
    "            exog=df['const'],\n",
    "            endog=df['Exprop'],\n",
    "            instruments=df['logMort']).fit()\n",
    "\n",
    "# Print\n",
    "iv.summary"
   ]
  },
  {
   "cell_type": "markdown",
   "metadata": {
    "slideshow": {
     "slide_type": "slide"
    }
   },
   "source": [
    "Given that we now have consistent and unbiased estimates, we can infer\n",
    "from the model we have estimated that institutional differences\n",
    "(stemming from institutions set up during colonization) can help\n",
    "to explain differences in income levels across countries today.\n",
    "\n",
    "[[AJR01]](https://python-programming.quantecon.org/zreferences.html#acemoglu2001) use a marginal effect of 0.94 to calculate that the\n",
    "difference in the index between Chile and Nigeria (ie. institutional\n",
    "quality) implies up to a 7-fold difference in income, emphasizing the\n",
    "significance of institutions in economic development."
   ]
  },
  {
   "cell_type": "markdown",
   "metadata": {
    "slideshow": {
     "slide_type": "slide"
    }
   },
   "source": [
    "## 2.4 Matrix Algebra\n",
    "\n",
    "[*go to index*](#/1)"
   ]
  },
  {
   "cell_type": "markdown",
   "metadata": {
    "slideshow": {
     "slide_type": "slide"
    }
   },
   "source": [
    "The OLS parameter $ \\beta $ can also be estimated using matrix\n",
    "algebra and `numpy`.\n",
    "\n",
    "The linear equation we want to estimate is (written in matrix form)\n",
    "\n",
    "$$\n",
    "y = X\\beta + \\varepsilon\n",
    "$$"
   ]
  },
  {
   "cell_type": "code",
   "execution_count": 20,
   "metadata": {
    "slideshow": {
     "slide_type": "fragment"
    }
   },
   "outputs": [],
   "source": [
    "# Init \n",
    "X = df[['const', 'Exprop']].values\n",
    "Z = df[['const', 'logMort']].values\n",
    "y = df['GDP'].values"
   ]
  },
  {
   "cell_type": "markdown",
   "metadata": {
    "slideshow": {
     "slide_type": "slide"
    }
   },
   "source": [
    "To solve for the unknown parameter $ \\beta $, we want to minimize\n",
    "the sum of squared residuals\n",
    "\n",
    "$$\n",
    "\\underset{\\hat{\\beta}}{\\min} \\ \\hat{\\varepsilon}'\\hat{\\varepsilon}\n",
    "$$\n",
    "\n",
    "Rearranging the first equation and substituting into the second\n",
    "equation, we can write\n",
    "\n",
    "$$\n",
    "\\underset{\\hat{\\beta}}{\\min} \\ (Y - X\\hat{\\beta})' (Y - X\\hat{\\beta})\n",
    "$$\n",
    "\n",
    "Solving this optimization problem gives the solution for the\n",
    "$ \\hat{\\beta} $ coefficients\n",
    "\n",
    "$$\n",
    "\\hat{\\beta} = (X'X)^{-1}X'y\n",
    "$$"
   ]
  },
  {
   "cell_type": "code",
   "execution_count": 21,
   "metadata": {
    "slideshow": {
     "slide_type": "fragment"
    }
   },
   "outputs": [
    {
     "name": "stdout",
     "output_type": "stream",
     "text": [
      "[4.66087966 0.52203367]\n"
     ]
    }
   ],
   "source": [
    "# Compute beta OLS\n",
    "beta_OLS = inv(X.T @ X) @ X.T @ y\n",
    "\n",
    "print(beta_OLS)"
   ]
  },
  {
   "cell_type": "markdown",
   "metadata": {
    "slideshow": {
     "slide_type": "slide"
    }
   },
   "source": [
    "As we as see above, the OLS coefficient might suffer from endogeneity bias. We can solve the issue by instrumenting the predicted average expropriation rate with the average settler mortality.\n",
    "\n",
    "If we define settler mortality as $Z$, our full model is\n",
    "\n",
    "$$\n",
    "y = X\\beta + \\varepsilon \\\\\n",
    "X = Z\\gamma + \\mu\n",
    "$$\n",
    "\n",
    "Where we refer to the second equation as second stage and to the first equation as the reduced form equation. In our case, since the number of endogenous varaibles is equal to the number of insturments, there are two equivalent estimators that do not suffer from endogeneity bias: 2SLS and IV."
   ]
  },
  {
   "cell_type": "markdown",
   "metadata": {
    "slideshow": {
     "slide_type": "slide"
    }
   },
   "source": [
    "IV, the one stage estimator\n",
    "\n",
    "$$\n",
    "\\hat \\beta_{IV} = (Z'X)^{-1} Z' y\n",
    "$$"
   ]
  },
  {
   "cell_type": "code",
   "execution_count": 22,
   "metadata": {},
   "outputs": [
    {
     "name": "stdout",
     "output_type": "stream",
     "text": [
      "[2.0447613  0.92351936]\n"
     ]
    }
   ],
   "source": [
    "# Compute beta IV\n",
    "beta_IV = inv(Z.T @ X) @ Z.T @ y\n",
    "\n",
    "print(beta_IV)"
   ]
  },
  {
   "cell_type": "markdown",
   "metadata": {
    "slideshow": {
     "slide_type": "slide"
    }
   },
   "source": [
    "One of the hypothesis behind the IV estimator is the *relevance* of the instrument, i.e. we have a strong predictor in the first stage. This is the only hypothesis that we can empirically assess by checking the significance of the first stage coefficient.\n",
    "\n",
    "$$\n",
    "\\hat \\gamma = (Z' Z)^{-1} Z'X \\\\\n",
    "\\hat Var (\\hat \\gamma) = \\sigma_u^2 (Z' Z)^{-1}\n",
    "$$\n",
    "\n",
    "where\n",
    "\n",
    "$$\n",
    "u = X - Z \\hat \\gamma \n",
    "$$"
   ]
  },
  {
   "cell_type": "code",
   "execution_count": 23,
   "metadata": {},
   "outputs": [
    {
     "name": "stdout",
     "output_type": "stream",
     "text": [
      "-0.6132892723868639\n"
     ]
    }
   ],
   "source": [
    "# Estimate first stage coefficient\n",
    "gamma_hat = (inv(Z.T @ Z) @ Z.T @ X)\n",
    "\n",
    "print(gamma_hat[1,1])"
   ]
  },
  {
   "cell_type": "code",
   "execution_count": 24,
   "metadata": {
    "slideshow": {
     "slide_type": "slide"
    }
   },
   "outputs": [
    {
     "name": "stdout",
     "output_type": "stream",
     "text": [
      "0.08834733362858559\n"
     ]
    }
   ],
   "source": [
    "# Compute variance of the estimator\n",
    "u = X - Z @ gamma_hat\n",
    "var_gamma_hat = np.var(u) * inv(Z.T @ Z)\n",
    "\n",
    "# Compute standard errors\n",
    "std_gamma_hat = var_gamma_hat[1,1]**.5\n",
    "print(std_gamma_hat)"
   ]
  },
  {
   "cell_type": "code",
   "execution_count": 25,
   "metadata": {},
   "outputs": [
    {
     "name": "stdout",
     "output_type": "stream",
     "text": [
      "[-0.7864500462988917, -0.44012849847483615]\n"
     ]
    }
   ],
   "source": [
    "# Compute 95% confidence interval\n",
    "CI = [gamma_hat[1,1] - 1.96*std_gamma_hat, gamma_hat[1,1] + 1.96*std_gamma_hat]\n",
    "\n",
    "print(CI)"
   ]
  },
  {
   "cell_type": "markdown",
   "metadata": {},
   "source": [
    "The first stage coefficient is negative and significant, i.e. settler mortality is negatively correlated with the expropriation rate."
   ]
  },
  {
   "cell_type": "markdown",
   "metadata": {
    "slideshow": {
     "slide_type": "slide"
    }
   },
   "source": [
    "How does it work when we have more instruments than endogenous variables? Two-State Least Squares.\n",
    " 1. Regress $X$ on $Z$ and obtain $\\hat X$: \n",
    " $$\n",
    " \\hat X = Z (Z' Z)^{-1} Z'X\n",
    " $$\n",
    " 2. Regress $Y$ on $\\hat X$ and obtain $\\hat \\beta_{2SLS}$\n",
    " $$\n",
    " \\hat \\beta_{2SLS} = (\\hat X' \\hat X)^{-1} \\hat X' y\n",
    " $$\n",
    " \n",
    "\n",
    " In our case, just for the sake of exposition, let's generate a second instrument: the settler mortality squared, `logMort_2` = `logMort`^2."
   ]
  },
  {
   "cell_type": "code",
   "execution_count": 26,
   "metadata": {},
   "outputs": [],
   "source": [
    "df['logMort_2'] = df['logMort']**2"
   ]
  },
  {
   "cell_type": "code",
   "execution_count": 27,
   "metadata": {},
   "outputs": [
    {
     "name": "stdout",
     "output_type": "stream",
     "text": [
      "[3.08817432 0.76339075]\n"
     ]
    }
   ],
   "source": [
    "# Define Z\n",
    "Z1 = df[['const', 'logMort', 'logMort_2']].values\n",
    "\n",
    "# Compute beta 2SLS in two steps\n",
    "X_hat = Z1 @ inv(Z1.T @ Z1) @ Z1.T @ X\n",
    "beta_2SLS = inv(X_hat.T @ X_hat) @ X_hat.T @ y\n",
    "\n",
    "print(beta_2SLS)"
   ]
  },
  {
   "cell_type": "markdown",
   "metadata": {
    "slideshow": {
     "slide_type": "slide"
    }
   },
   "source": [
    "The 2SLS estimator does not have to be actually estimated in two stages. Combining the two formulas above, we get\n",
    "\n",
    "$$\n",
    "\\hat{\\beta} _ {2SLS} =  \\Big( X'Z (Z'Z)^{-1} Z'X \\Big)^{-1} \\Big( X'Z (Z'Z)^{-1} Z'y \\Big)\n",
    "$$\n",
    "\n",
    "which can be computed in one step."
   ]
  },
  {
   "cell_type": "code",
   "execution_count": 28,
   "metadata": {},
   "outputs": [
    {
     "name": "stdout",
     "output_type": "stream",
     "text": [
      "[3.08817432 0.76339075]\n"
     ]
    }
   ],
   "source": [
    "# Compute beta 2SLS in one step\n",
    "beta_2SLS = inv(X_hat.T @ Z1 @ inv(Z1.T @ Z1) @ Z1.T @ X_hat) @ X_hat.T @ Z1 @ inv(Z1.T @ Z1) @ Z1.T @ y\n",
    "    \n",
    "print(beta_2SLS)"
   ]
  },
  {
   "cell_type": "markdown",
   "metadata": {
    "slideshow": {
     "slide_type": "slide"
    }
   },
   "source": [
    "## Next Lecture\n",
    "\n",
    "Jump to [Session 3 - Nonparametrics](https://matteocourthoud.github.io/course/ml-econ/3-nonparametric/)"
   ]
  }
 ],
 "metadata": {
  "celltoolbar": "Slideshow",
  "date": 1600751933.0471811,
  "filename": "ols.rst",
  "kernelspec": {
   "display_name": "Python 3",
   "language": "python",
   "name": "python3"
  },
  "language_info": {
   "codemirror_mode": {
    "name": "ipython",
    "version": 3
   },
   "file_extension": ".py",
   "mimetype": "text/x-python",
   "name": "python",
   "nbconvert_exporter": "python",
   "pygments_lexer": "ipython3",
   "version": "3.9.7"
  },
  "next_doc": {
   "link": "mle",
   "title": "Maximum Likelihood Estimation"
  },
  "prev_doc": {
   "link": "pandas_panel",
   "title": "Pandas for Panel Data"
  },
  "title": "Linear Regression in Python"
 },
 "nbformat": 4,
 "nbformat_minor": 2
}
