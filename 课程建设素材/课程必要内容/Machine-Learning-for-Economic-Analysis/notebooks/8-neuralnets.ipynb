{
 "cells": [
  {
   "cell_type": "markdown",
   "metadata": {
    "slideshow": {
     "slide_type": "slide"
    }
   },
   "source": [
    "# Session 8 - Neural Networks\n",
    "\n",
    "*Matteo Courthoud*"
   ]
  },
  {
   "cell_type": "markdown",
   "metadata": {
    "slideshow": {
     "slide_type": "slide"
    }
   },
   "source": [
    "## Contents\n",
    "\n",
    "- [Introduction](#/3)\n",
    "- [PyTorch](#/14)\n",
    "- [Optimization and Gradient Descent](#/30)\n",
    "- [Advanced Topics](#/71)"
   ]
  },
  {
   "cell_type": "code",
   "execution_count": 1,
   "metadata": {
    "slideshow": {
     "slide_type": "subslide"
    }
   },
   "outputs": [
    {
     "name": "stderr",
     "output_type": "stream",
     "text": [
      "/opt/homebrew/lib/python3.9/site-packages/statsmodels/tools/_testing.py:19: FutureWarning: pandas.util.testing is deprecated. Use the functions in the public API at pandas.testing instead.\n",
      "  import pandas.util.testing as tm\n"
     ]
    }
   ],
   "source": [
    "# Import everything\n",
    "import pandas as pd\n",
    "import numpy as np\n",
    "import seaborn as sns\n",
    "import statsmodels.api as sm\n",
    "\n",
    "import copy\n",
    "import torch \n",
    "import torch.nn as nn\n",
    "import torch.utils.data as Data\n",
    "from torch.autograd import Variable\n",
    "from sklearn.linear_model import LinearRegression\n",
    "from torchviz import make_dot"
   ]
  },
  {
   "cell_type": "code",
   "execution_count": 2,
   "metadata": {
    "slideshow": {
     "slide_type": "subslide"
    }
   },
   "outputs": [],
   "source": [
    "# Import matplotlib for graphs\n",
    "import matplotlib.pyplot as plt\n",
    "from mpl_toolkits.mplot3d import axes3d\n",
    "from IPython.display import clear_output\n",
    "\n",
    "# Set global parameters\n",
    "%matplotlib inline\n",
    "plt.style.use('seaborn-white')\n",
    "plt.rcParams['lines.linewidth'] = 3\n",
    "plt.rcParams['figure.figsize'] = (10,6)\n",
    "plt.rcParams['figure.titlesize'] = 20\n",
    "plt.rcParams['axes.titlesize'] = 18\n",
    "plt.rcParams['axes.labelsize'] = 14\n",
    "plt.rcParams['legend.fontsize'] = 14"
   ]
  },
  {
   "cell_type": "code",
   "execution_count": 3,
   "metadata": {
    "slideshow": {
     "slide_type": "subslide"
    }
   },
   "outputs": [],
   "source": [
    "# Remove warnings\n",
    "import warnings\n",
    "warnings.filterwarnings('ignore')"
   ]
  },
  {
   "cell_type": "markdown",
   "metadata": {
    "slideshow": {
     "slide_type": "slide"
    }
   },
   "source": [
    "While `sklearn` has a library for neural networks, it is very basic and not the standard in the industry. The most commonly used libraries as of 2020 are **Tensorflow** and **Pytorch**.\n",
    "\n",
    "- TensorFlow is developed by Google Brain and actively used at Google both for research and production needs. Its closed-source predecessor is called DistBelief.\n",
    "\n",
    "- PyTorch is a cousin of lua-based Torch framework which was developed and used at Facebook. However, PyTorch is not a simple set of wrappers to support popular language, it was rewritten and tailored to be fast and feel native.\n",
    "\n",
    "Here is an article that explains very well the difference between the two libraries: [pytorch-vs-tensorflow](https://towardsdatascience.com/pytorch-vs-tensorflow-spotting-the-difference-25c75777377b). In short, pytorch is much more intuitive for a python programmer and more user friendly. It also has a superior development and debugging experience. However, if you want more control on the fundamentals, a better community support and you need to train large models, Tensorflow is better."
   ]
  },
  {
   "cell_type": "markdown",
   "metadata": {
    "slideshow": {
     "slide_type": "slide"
    }
   },
   "source": [
    "## 8.1 Introduction\n",
    "\n",
    "[*back to index*](#/1)"
   ]
  },
  {
   "cell_type": "markdown",
   "metadata": {
    "slideshow": {
     "slide_type": "slide"
    }
   },
   "source": [
    "The term neural network has evolved to encompass a large class of models and learning methods. Here I describe the most widely used “vanilla” neural net, sometimes called the single hidden layer back-propagation network, or single layer perceptron."
   ]
  },
  {
   "cell_type": "markdown",
   "metadata": {
    "slideshow": {
     "slide_type": "slide"
    }
   },
   "source": [
    "### Regression"
   ]
  },
  {
   "cell_type": "markdown",
   "metadata": {
    "slideshow": {
     "slide_type": "fragment"
    }
   },
   "source": [
    "Imagine a setting with two **inputs** available (let’s denote these inputs $i_1$ and $i_2$), and no special knowledge about the relationship between these inputs and the **output** that we want to predict (denoted by $o$) except that this relationship is, a priori, pretty complex and non-linear.\n",
    "\n",
    "So we want to learn the function $f$ such that f($i_1$, $i_2$) is a good estimator of $o$. We could then suggest the following first model:\n",
    "\n",
    "$$\n",
    "o = w_{11} i_1 + w_{12} i_2\n",
    "$$\n",
    "\n",
    "where w11 and w12 are just weights/coefficients (do not take care about the indices for now). Before going any further, we should notice that, here, there is no constant term in the model. However, we could have introduced such term by setting $f(i_1, i_2) = w_{11} i_1 + w_{12} i_2 + c$. The constant is often called **bias**."
   ]
  },
  {
   "cell_type": "markdown",
   "metadata": {
    "slideshow": {
     "slide_type": "slide"
    }
   },
   "source": [
    "We can represent the setting as follows.\n",
    "\n",
    "<img src=\"figures/nn1.jpeg\" alt=\"Drawing\" style=\"width: 600px;\"/>\n",
    "\n",
    "In this case, the model is easy to understand and to fit but has a big drawback : there is no non-linearity! This obviously do not respect our non-linear assumption. "
   ]
  },
  {
   "cell_type": "markdown",
   "metadata": {
    "slideshow": {
     "slide_type": "slide"
    }
   },
   "source": [
    "### Activation Functions"
   ]
  },
  {
   "cell_type": "markdown",
   "metadata": {
    "slideshow": {
     "slide_type": "fragment"
    }
   },
   "source": [
    "In order to introduce a non-linearity, let us make a little modification in the previous model and suggest the following one.\n",
    "\n",
    "$$\n",
    "o = a ( w_{11} i_1 + w_{12} i_2)\n",
    "$$\n",
    "\n",
    "where $a$ is a function called **activation function** which is non-linear.\n",
    "\n",
    "<img src=\"figures/nn2.jpeg\" alt=\"Drawing\" style=\"width: 600px;\"/>"
   ]
  },
  {
   "cell_type": "markdown",
   "metadata": {
    "slideshow": {
     "slide_type": "slide"
    }
   },
   "source": [
    "One commonly known activation function in economics is the *sigmoid* function or logit function\n",
    "\n",
    "$$\n",
    "a (w_{11} i_1 + w_{12} i_2) = \\frac{1}{1 + e^{w_{11} i_1 + w_{12} i_2}}\n",
    "$$"
   ]
  },
  {
   "cell_type": "markdown",
   "metadata": {
    "slideshow": {
     "slide_type": "slide"
    }
   },
   "source": [
    "### Layers"
   ]
  },
  {
   "cell_type": "markdown",
   "metadata": {
    "slideshow": {
     "slide_type": "fragment"
    }
   },
   "source": [
    "However, even if better than multilinear model, this model is still too simple and can’t handle the assumed underlying complexity of the relationship between inputs and output. We can make a step further and enrich the model the following way. \n",
    "\n",
    "\n",
    "1. First we could consider that the quantity $a ( w_{11} i_1 + w_{12} i_2)$ is no longer the final output but instead a new intermediate feature of our function, called $l_1$, which stands for **layer**. \n",
    "\n",
    "$$\n",
    "l_1 = a ( w_{11} i_1 + w_{12} i_2)\n",
    "$$"
   ]
  },
  {
   "cell_type": "markdown",
   "metadata": {
    "slideshow": {
     "slide_type": "slide"
    }
   },
   "source": [
    "2. Second we could consider that we build several (3 in our example) such features in the same way, but possibly with different weights and different activation functions\n",
    "\n",
    "$$\n",
    "l_1 = a ( w_{11} i_1 + w_{12} i_2) \\\\\n",
    "l_2 = a ( w_{21} i_1 + w_{22} i_2) \\\\\n",
    "l_3 = a ( w_{31} i_1 + w_{32} i_2) \n",
    "$$\n",
    "\n",
    "where the $a$’s are just activation functions and the $w$’s are weights. \n",
    "    "
   ]
  },
  {
   "cell_type": "markdown",
   "metadata": {
    "slideshow": {
     "slide_type": "slide"
    }
   },
   "source": [
    "3. Finally, we can consider that our final output is build based on these intermediate features with the same “template”\n",
    "\n",
    "$$\n",
    "a_2 ( v_1 l_1 + v_2 l_2 + v_3 * l_3 )\n",
    "$$"
   ]
  },
  {
   "cell_type": "markdown",
   "metadata": {
    "slideshow": {
     "slide_type": "slide"
    }
   },
   "source": [
    "If we aggregate all the pieces, we then get our **prediction** $p$\n",
    "\n",
    "$$\n",
    "\\begin{aligned}\n",
    "p = f_{3}\\left(i_{1}, i_{2}\\right) &=a_{2}\\left(v_{1} l_{1}+v_{2} l_{2}+v_{3} l_{3}\\right) \\\\\n",
    "&=a_{2}\\left(v_{1} \\times a_{11}\\left(w_{11} i_{1}+w_{12} i_{2}\\right)+v_{2} \\times a_{12}\\left(w_{21} i_{1}+w_{22} i_{2}\\right)+v_{3} \\times a_{13}\\left(w_{31} i_{1}+w_{32} i_{2}\\right)\\right)\n",
    "\\end{aligned}\n",
    "$$\n",
    "\n",
    "where we should mainly keep in mind that $a$’s are non-linear activation functions and $w$’s and $v$’s are weights."
   ]
  },
  {
   "cell_type": "markdown",
   "metadata": {
    "slideshow": {
     "slide_type": "slide"
    }
   },
   "source": [
    "Graphically:\n",
    "\n",
    "<img src=\"figures/nn3.jpeg\" alt=\"Drawing\" style=\"width: 900px;\"/>\n",
    "\n",
    "This last model is a basic feedforward neural network with:\n",
    " - 2 entries ($i_1$ and $i_2$)\n",
    " - 1 hidden layer with 3 hidden neurones (whose outputs are $l_1$, $l_2$ and $l_3$)\n",
    " - 1 final output ($p$)"
   ]
  },
  {
   "cell_type": "markdown",
   "metadata": {
    "slideshow": {
     "slide_type": "slide"
    }
   },
   "source": [
    "## Pytorch\n",
    "\n",
    "[*back to index*](#/1)"
   ]
  },
  {
   "cell_type": "markdown",
   "metadata": {
    "slideshow": {
     "slide_type": "slide"
    }
   },
   "source": [
    "### Tensors"
   ]
  },
  {
   "cell_type": "markdown",
   "metadata": {},
   "source": [
    "We can express the data as a `numpy` array."
   ]
  },
  {
   "cell_type": "code",
   "execution_count": 4,
   "metadata": {},
   "outputs": [
    {
     "data": {
      "text/plain": [
       "array([[0, 1],\n",
       "       [2, 3],\n",
       "       [4, 5]])"
      ]
     },
     "execution_count": 4,
     "metadata": {},
     "output_type": "execute_result"
    }
   ],
   "source": [
    "x_np = np.arange(6).reshape((3, 2))\n",
    "x_np"
   ]
  },
  {
   "cell_type": "markdown",
   "metadata": {
    "slideshow": {
     "slide_type": "slide"
    }
   },
   "source": [
    "Or equivalently as a `pytorch` tensor."
   ]
  },
  {
   "cell_type": "code",
   "execution_count": 5,
   "metadata": {},
   "outputs": [
    {
     "data": {
      "text/plain": [
       "tensor([[0, 1],\n",
       "        [2, 3],\n",
       "        [4, 5]])"
      ]
     },
     "execution_count": 5,
     "metadata": {},
     "output_type": "execute_result"
    }
   ],
   "source": [
    "x_tensor = torch.from_numpy(x_np)\n",
    "x_tensor"
   ]
  },
  {
   "cell_type": "markdown",
   "metadata": {
    "slideshow": {
     "slide_type": "slide"
    }
   },
   "source": [
    "We can also translate tensors back to arrays."
   ]
  },
  {
   "cell_type": "code",
   "execution_count": 6,
   "metadata": {},
   "outputs": [
    {
     "data": {
      "text/plain": [
       "array([[0, 1],\n",
       "       [2, 3],\n",
       "       [4, 5]])"
      ]
     },
     "execution_count": 6,
     "metadata": {},
     "output_type": "execute_result"
    }
   ],
   "source": [
    "tensor2array = x_tensor.numpy()\n",
    "tensor2array"
   ]
  },
  {
   "cell_type": "markdown",
   "metadata": {
    "slideshow": {
     "slide_type": "slide"
    }
   },
   "source": [
    "We can make operations over this data. For example we can take the mean"
   ]
  },
  {
   "cell_type": "code",
   "execution_count": 7,
   "metadata": {},
   "outputs": [
    {
     "name": "stdout",
     "output_type": "stream",
     "text": [
      "Can only calculate the mean of floating types. Got Long instead.\n"
     ]
    }
   ],
   "source": [
    "try:\n",
    "    torch.mean(x_tensor)\n",
    "except Exception as e:\n",
    "    print(e)"
   ]
  },
  {
   "cell_type": "markdown",
   "metadata": {
    "slideshow": {
     "slide_type": "slide"
    }
   },
   "source": [
    "We first have to convert the data in float"
   ]
  },
  {
   "cell_type": "code",
   "execution_count": 8,
   "metadata": {
    "scrolled": true
   },
   "outputs": [
    {
     "data": {
      "text/plain": [
       "tensor([[0., 1.],\n",
       "        [2., 3.],\n",
       "        [4., 5.]])"
      ]
     },
     "execution_count": 8,
     "metadata": {},
     "output_type": "execute_result"
    }
   ],
   "source": [
    "x_tensor = torch.FloatTensor(x_np)\n",
    "x_tensor"
   ]
  },
  {
   "cell_type": "code",
   "execution_count": 9,
   "metadata": {},
   "outputs": [
    {
     "name": "stdout",
     "output_type": "stream",
     "text": [
      "2.5 \n",
      "\n",
      " tensor(2.5000)\n"
     ]
    }
   ],
   "source": [
    "print(np.mean(x_np), '\\n\\n', torch.mean(x_tensor))"
   ]
  },
  {
   "cell_type": "markdown",
   "metadata": {
    "slideshow": {
     "slide_type": "slide"
    }
   },
   "source": [
    "We can also apply compontent-wise functions"
   ]
  },
  {
   "cell_type": "code",
   "execution_count": 10,
   "metadata": {},
   "outputs": [
    {
     "name": "stdout",
     "output_type": "stream",
     "text": [
      "[[ 0.          0.84147098]\n",
      " [ 0.90929743  0.14112001]\n",
      " [-0.7568025  -0.95892427]] \n",
      "\n",
      " tensor([[ 0.0000,  0.8415],\n",
      "        [ 0.9093,  0.1411],\n",
      "        [-0.7568, -0.9589]])\n"
     ]
    }
   ],
   "source": [
    "print(np.sin(x_np), '\\n\\n', torch.sin(x_tensor))"
   ]
  },
  {
   "cell_type": "markdown",
   "metadata": {
    "slideshow": {
     "slide_type": "slide"
    }
   },
   "source": [
    "We can multiply tensors as we multiply matrices"
   ]
  },
  {
   "cell_type": "code",
   "execution_count": 11,
   "metadata": {
    "scrolled": false
   },
   "outputs": [
    {
     "name": "stdout",
     "output_type": "stream",
     "text": [
      "[[20 26]\n",
      " [26 35]] \n",
      "\n",
      " tensor([[20., 26.],\n",
      "        [26., 35.]])\n"
     ]
    }
   ],
   "source": [
    "print(np.matmul(x_np.T, x_np), '\\n\\n', torch.mm(x_tensor.T, x_tensor))"
   ]
  },
  {
   "cell_type": "markdown",
   "metadata": {
    "slideshow": {
     "slide_type": "slide"
    }
   },
   "source": [
    "But the element-wise multiplication does not work"
   ]
  },
  {
   "cell_type": "code",
   "execution_count": 12,
   "metadata": {
    "scrolled": true
   },
   "outputs": [
    {
     "name": "stdout",
     "output_type": "stream",
     "text": [
      "1D tensors expected, but got 2D and 2D tensors\n"
     ]
    }
   ],
   "source": [
    "try:\n",
    "    x_tensor.dot(x_tensor)\n",
    "except Exception as e:\n",
    "    print(e)"
   ]
  },
  {
   "cell_type": "markdown",
   "metadata": {
    "slideshow": {
     "slide_type": "slide"
    }
   },
   "source": [
    "### Variables"
   ]
  },
  {
   "cell_type": "markdown",
   "metadata": {
    "slideshow": {
     "slide_type": "fragment"
    }
   },
   "source": [
    "Variable in torch is to build a computational graph, but this graph is dynamic compared with a static graph in Tensorflow or Theano. So torch does not have placeholder, torch can just pass variable to the computational graph."
   ]
  },
  {
   "cell_type": "code",
   "execution_count": 13,
   "metadata": {},
   "outputs": [
    {
     "data": {
      "text/plain": [
       "tensor([[0., 1.],\n",
       "        [2., 3.],\n",
       "        [4., 5.]], requires_grad=True)"
      ]
     },
     "execution_count": 13,
     "metadata": {},
     "output_type": "execute_result"
    }
   ],
   "source": [
    "# build a variable, usually for compute gradients\n",
    "x_variable = Variable(x_tensor, requires_grad=True)   \n",
    "\n",
    "x_variable"
   ]
  },
  {
   "cell_type": "markdown",
   "metadata": {
    "slideshow": {
     "slide_type": "slide"
    }
   },
   "source": [
    "Until now the tensor and variable seem the same. However, the variable is a part of the graph, it's a part of the auto-gradient.\n",
    "\n",
    "Suppose we are interested in: \n",
    "\n",
    "$$\n",
    "y = \\text{mean} (x_1^2) = \\frac{1}{6} x^2\n",
    "$$"
   ]
  },
  {
   "cell_type": "code",
   "execution_count": 14,
   "metadata": {},
   "outputs": [
    {
     "name": "stdout",
     "output_type": "stream",
     "text": [
      "tensor(9.1667, grad_fn=<MeanBackward0>)\n"
     ]
    }
   ],
   "source": [
    "y = torch.mean(x_variable*x_variable)\n",
    "print(y)"
   ]
  },
  {
   "cell_type": "markdown",
   "metadata": {
    "slideshow": {
     "slide_type": "slide"
    }
   },
   "source": [
    "We can compute the gradient by backpropagation\n",
    "\n",
    "$$\n",
    "\\nabla y(x) = \\frac{2}{3} x\n",
    "$$\n",
    "\n",
    "i.e. if we call the `backward` method on our outcome `y`, we see that the gradient of our variable `x` gets updated."
   ]
  },
  {
   "cell_type": "code",
   "execution_count": 15,
   "metadata": {},
   "outputs": [
    {
     "name": "stdout",
     "output_type": "stream",
     "text": [
      "None\n"
     ]
    }
   ],
   "source": [
    "print(x_variable.grad)"
   ]
  },
  {
   "cell_type": "code",
   "execution_count": 16,
   "metadata": {},
   "outputs": [],
   "source": [
    "y.backward()"
   ]
  },
  {
   "cell_type": "code",
   "execution_count": 17,
   "metadata": {
    "scrolled": false
   },
   "outputs": [
    {
     "name": "stdout",
     "output_type": "stream",
     "text": [
      "tensor([[0.0000, 0.3333],\n",
      "        [0.6667, 1.0000],\n",
      "        [1.3333, 1.6667]])\n"
     ]
    }
   ],
   "source": [
    "print(x_variable.grad)"
   ]
  },
  {
   "cell_type": "markdown",
   "metadata": {
    "slideshow": {
     "slide_type": "slide"
    }
   },
   "source": [
    "However, its value has not changed."
   ]
  },
  {
   "cell_type": "code",
   "execution_count": 18,
   "metadata": {},
   "outputs": [
    {
     "name": "stdout",
     "output_type": "stream",
     "text": [
      "tensor([[0., 1.],\n",
      "        [2., 3.],\n",
      "        [4., 5.]], requires_grad=True)\n"
     ]
    }
   ],
   "source": [
    "print(x_variable)"
   ]
  },
  {
   "cell_type": "markdown",
   "metadata": {
    "slideshow": {
     "slide_type": "slide"
    }
   },
   "source": [
    "We can also access the `tensor` part of the variable alone by calling the `data` method."
   ]
  },
  {
   "cell_type": "code",
   "execution_count": 19,
   "metadata": {
    "scrolled": true
   },
   "outputs": [
    {
     "name": "stdout",
     "output_type": "stream",
     "text": [
      "tensor([[0., 1.],\n",
      "        [2., 3.],\n",
      "        [4., 5.]])\n"
     ]
    }
   ],
   "source": [
    "print(x_variable.data)"
   ]
  },
  {
   "cell_type": "markdown",
   "metadata": {
    "slideshow": {
     "slide_type": "slide"
    }
   },
   "source": [
    "### Activation function"
   ]
  },
  {
   "cell_type": "markdown",
   "metadata": {
    "slideshow": {
     "slide_type": "fragment"
    }
   },
   "source": [
    "The main advantage of neural networks is that they introduce non-linearities among the layers. The standard non-linear function \n",
    "\n",
    "- ReLu\n",
    "- Sigmoid\n",
    "- TanH\n",
    "- Softmax"
   ]
  },
  {
   "cell_type": "code",
   "execution_count": 20,
   "metadata": {
    "slideshow": {
     "slide_type": "notes"
    }
   },
   "outputs": [],
   "source": [
    "# X grid\n",
    "x_grid = torch.linspace(-5, 5, 200)  # x data (tensor), shape=(100, 1)\n",
    "x_grid = Variable(x_grid)\n",
    "x_grid_np = x_grid.data.numpy()   # numpy array for plotting\n",
    "\n",
    "# Activation functions\n",
    "y_relu = torch.relu(x_grid).data.numpy()\n",
    "y_sigmoid = torch.sigmoid(x_grid).data.numpy()\n",
    "y_tanh = torch.tanh(x_grid).data.numpy()\n",
    "y_softmax = torch.softmax(x_grid, dim=0).data.numpy() "
   ]
  },
  {
   "cell_type": "code",
   "execution_count": 21,
   "metadata": {
    "slideshow": {
     "slide_type": "notes"
    }
   },
   "outputs": [],
   "source": [
    "# New figure 1\n",
    "def make_new_figure_1():\n",
    "\n",
    "    # Init figure\n",
    "    fig, ((ax1, ax2), (ax3, ax4)) = plt.subplots(2,2, figsize=(8,6))\n",
    "    fig.suptitle('Activation Functions')\n",
    "\n",
    "    # Relu\n",
    "    ax1.plot(x_grid_np, y_relu, c='red', label='relu')\n",
    "    ax1.set_ylim((-1, 6)); ax1.legend()\n",
    "\n",
    "    # Sigmoid\n",
    "    ax2.plot(x_grid_np, y_sigmoid, c='red', label='sigmoid')\n",
    "    ax2.set_ylim((-0.2, 1.2)); ax2.legend()\n",
    "\n",
    "    # Tanh\n",
    "    ax3.plot(x_grid_np, y_tanh, c='red', label='tanh')\n",
    "    ax3.set_ylim((-1.2, 1.2)); ax3.legend()\n",
    "\n",
    "    # Softmax\n",
    "    ax4.plot(x_grid_np, y_softmax, c='red', label='softmax')\n",
    "    ax4.set_ylim((-0.01, 0.06)); ax4.legend();"
   ]
  },
  {
   "cell_type": "markdown",
   "metadata": {
    "slideshow": {
     "slide_type": "slide"
    }
   },
   "source": [
    "Let's compare the different activation functions."
   ]
  },
  {
   "cell_type": "code",
   "execution_count": 22,
   "metadata": {
    "slideshow": {
     "slide_type": "fragment"
    }
   },
   "outputs": [
    {
     "data": {
      "image/png": "[encoded data removed]",
      "text/plain": [
       "<Figure size 576x432 with 4 Axes>"
      ]
     },
     "metadata": {},
     "output_type": "display_data"
    }
   ],
   "source": [
    "make_new_figure_1()"
   ]
  },
  {
   "cell_type": "markdown",
   "metadata": {},
   "source": [
    "ReLu is very popular since it's non-linear."
   ]
  },
  {
   "cell_type": "markdown",
   "metadata": {
    "slideshow": {
     "slide_type": "slide"
    }
   },
   "source": [
    "## 8.3 Optimization and Gradient Descent\n",
    "\n",
    "[*back to index*](#/1)"
   ]
  },
  {
   "cell_type": "markdown",
   "metadata": {
    "slideshow": {
     "slide_type": "slide"
    }
   },
   "source": [
    "### Gradient Descent"
   ]
  },
  {
   "cell_type": "markdown",
   "metadata": {
    "slideshow": {
     "slide_type": "fragment"
    }
   },
   "source": [
    "Gradient descent works as follows:\n",
    "\n",
    "0. Initialize the parameters\n",
    "1. Compute the Loss\n",
    "2. Compute the Gradients\n",
    "3. Update the Parameters\n",
    "4. Repeat (1)-(3) until convergence"
   ]
  },
  {
   "cell_type": "markdown",
   "metadata": {
    "slideshow": {
     "slide_type": "slide"
    }
   },
   "source": [
    "### Gradient Descent in Linear Regression"
   ]
  },
  {
   "cell_type": "markdown",
   "metadata": {
    "slideshow": {
     "slide_type": "fragment"
    }
   },
   "source": [
    "In order to understand how are NN optimized, we start with a linear regression example. Remember that linear regression can be interpreted as the simplest possible NN.\n",
    "\n",
    "We generate the following data:\n",
    "\n",
    "$$\n",
    "y = 1 + 2 x - 3 x^2 + \\varepsilon\n",
    "$$\n",
    "\n",
    "with $x \\sim N(0,1)$ and $\\varepsilon \\sim N(0,0.1)$"
   ]
  },
  {
   "cell_type": "code",
   "execution_count": 23,
   "metadata": {
    "slideshow": {
     "slide_type": "subslide"
    }
   },
   "outputs": [],
   "source": [
    "# Data Generation\n",
    "np.random.seed(42)\n",
    "N = 100\n",
    "\n",
    "x = np.sort(np.random.rand(N, 1), axis=0)\n",
    "e = .1*np.random.randn(N, 1)\n",
    "y_true = 1 + 2*x - 3*x**2\n",
    "y = y_true + e"
   ]
  },
  {
   "cell_type": "markdown",
   "metadata": {
    "slideshow": {
     "slide_type": "slide"
    }
   },
   "source": [
    "Let's plot the data."
   ]
  },
  {
   "cell_type": "code",
   "execution_count": 24,
   "metadata": {
    "slideshow": {
     "slide_type": "notes"
    }
   },
   "outputs": [],
   "source": [
    "# New figure 2\n",
    "def make_new_figure_2():\n",
    "    \n",
    "    # Init\n",
    "    fig, ax = plt.subplots(figsize=(8,6))\n",
    "    fig.suptitle('Activation Functions')\n",
    "\n",
    "    # Scatter\n",
    "    ax.scatter(x,y); \n",
    "    ax.plot(x,y_true,color='orange'); \n",
    "    ax.set_xlabel('X'); ax.set_ylabel('Y');\n",
    "    ax.legend(['y true','y']);"
   ]
  },
  {
   "cell_type": "code",
   "execution_count": 25,
   "metadata": {
    "slideshow": {
     "slide_type": "fragment"
    }
   },
   "outputs": [
    {
     "data": {
      "image/png": "[encoded data removed]",
      "text/plain": [
       "<Figure size 576x432 with 1 Axes>"
      ]
     },
     "metadata": {},
     "output_type": "display_data"
    }
   ],
   "source": [
    "make_new_figure_2()"
   ]
  },
  {
   "cell_type": "markdown",
   "metadata": {
    "slideshow": {
     "slide_type": "slide"
    }
   },
   "source": [
    "Suppose we try to fit the data with a linear model\n",
    "\n",
    "$$\n",
    "y = a + b x\n",
    "$$\n",
    "\n",
    "We proceed iteratively by gradient descent. Our objective function is the Mean Squared Error."
   ]
  },
  {
   "cell_type": "markdown",
   "metadata": {
    "slideshow": {
     "slide_type": "slide"
    }
   },
   "source": [
    "**Algorithm**\n",
    "\n",
    "0. Take an initial guess of the parameters\n",
    "    $$\n",
    "    a = a_0 \\\\\n",
    "    b = b_0\n",
    "    $$\n",
    "\n",
    "1. Compute the Mean Squared Error\n",
    "    $$\n",
    "    \\begin{array}\n",
    "    \\text{MSE} &= \\frac{1}{N} \\sum_{i=1}^{N}\\left(y_{i}-\\hat{y}_{i}\\right)^{2} \\\\\n",
    "          &= \\frac{1}{N} \\sum_{i=1}^{N}\\left(y_{i}-a-b x_{i}\\right)^{2}\n",
    "    \\end{array}\n",
    "    $$\n",
    "    \n",
    "2. Compute its derivative\n",
    "    $$\n",
    "    \\begin{array}{l}\n",
    "    \\frac{\\partial M S E}{\\partial a}=\\frac{\\partial M S E}{\\partial \\hat{y}_{i}} \\cdot \\frac{\\partial \\hat{y}_{i}}{\\partial a}=\\frac{1}{N} \\sum_{i=1}^{N} 2\\left(y_{i}-a-b x_{i}\\right) \\cdot(-1)=-2 \\frac{1}{N} \\sum_{i=1}^{N}\\left(y_{i}-\\hat{y}_{i}\\right) \\\\\n",
    "    \\frac{\\partial M S E}{\\partial b}=\\frac{\\partial M S E}{\\partial \\hat{y}_{i}} \\cdot \\frac{\\partial \\hat{y}_{i}}{\\partial b}=\\frac{1}{N} \\sum_{i=1}^{N} 2\\left(y_{i}-a-b x_{i}\\right) \\cdot\\left(-x_{i}\\right)=-2 \\frac{1}{N} \\sum_{i=1}^{N} x_{i}\\left(y_{i}-\\hat{y}_{i}\\right)\n",
    "    \\end{array}\n",
    "    $$\n",
    "    \n",
    "3. Update the parameters \n",
    "    $$\n",
    "        \\begin{array}{l}\n",
    "        a=a-\\eta \\frac{\\partial M S E}{\\partial a} \\\\\n",
    "        b=b-\\eta \\frac{\\partial M S E}{\\partial b}\n",
    "        \\end{array}\n",
    "    $$\n",
    "    \n",
    "    Where $\\eta$ is the **learning rate**. A lower learning rate makes learning more stable but slower.\n",
    "\n",
    "4. Repeat (1)-(3) $T$ times, where the number of total iterations $T$ is called **epochs**."
   ]
  },
  {
   "cell_type": "markdown",
   "metadata": {
    "slideshow": {
     "slide_type": "slide"
    }
   },
   "source": [
    "We start by taking a random guess of $\\alpha$ and $\\beta$."
   ]
  },
  {
   "cell_type": "code",
   "execution_count": 26,
   "metadata": {},
   "outputs": [
    {
     "name": "stdout",
     "output_type": "stream",
     "text": [
      "[0.49671415] [-0.1382643]\n"
     ]
    }
   ],
   "source": [
    "# Initializes parameters \"a\" and \"b\" randomly\n",
    "np.random.seed(42)\n",
    "a = np.random.randn(1)\n",
    "b = np.random.randn(1)\n",
    "\n",
    "print(a, b)"
   ]
  },
  {
   "cell_type": "code",
   "execution_count": 27,
   "metadata": {
    "slideshow": {
     "slide_type": "notes"
    }
   },
   "outputs": [],
   "source": [
    "# Plot gradient \n",
    "def gradient_plot(x, y, y_hat, y_true, EPOCHS, losses):\n",
    "    clear_output(wait=True)\n",
    "    fig, (ax1, ax2) = plt.subplots(1,2, figsize=(12,5))\n",
    "    \n",
    "    # First figure\n",
    "    ax1.clear()\n",
    "    ax1.scatter(x, y)\n",
    "    ax1.plot(x, y_true, 'orange')\n",
    "    ax1.plot(x, y_hat, 'r-')\n",
    "    ax1.set_title('Data and Fit')\n",
    "    ax1.legend(['True', 'Predicted'])\n",
    "    \n",
    "    # Second figure\n",
    "    ax2.clear()\n",
    "    ax2.plot(range(len(losses)), losses, color='g')\n",
    "    ax2.set_xlim(0,EPOCHS); ax2.set_ylim(0,1.1*np.max(losses))\n",
    "    ax2.set_title('True MSE = %.4f' % losses[-1])\n",
    "    \n",
    "    # Plot\n",
    "    plt.show();"
   ]
  },
  {
   "cell_type": "markdown",
   "metadata": {
    "slideshow": {
     "slide_type": "slide"
    }
   },
   "source": [
    "We set the learning rate $\\eta = 0.1$ and the number of epochs $T=200$"
   ]
  },
  {
   "cell_type": "code",
   "execution_count": 28,
   "metadata": {},
   "outputs": [],
   "source": [
    "# parameters\n",
    "LR = 0.1        # learning rate\n",
    "EPOCHS = 200    # number of epochs"
   ]
  },
  {
   "cell_type": "markdown",
   "metadata": {
    "slideshow": {
     "slide_type": "slide"
    }
   },
   "source": [
    "We can now plot the training and the result."
   ]
  },
  {
   "cell_type": "code",
   "execution_count": 29,
   "metadata": {
    "scrolled": false,
    "slideshow": {
     "slide_type": "notes"
    }
   },
   "outputs": [],
   "source": [
    "# New figure 3\n",
    "def make_new_figure_3(a, b):\n",
    "    \n",
    "    # Init\n",
    "    losses = []\n",
    "\n",
    "    # train\n",
    "    for t in range(EPOCHS):\n",
    "\n",
    "        # compute loss\n",
    "        y_hat = a + b * x\n",
    "        error = (y - y_hat)\n",
    "        loss = (error**2).mean()\n",
    "\n",
    "        # compute gradient\n",
    "        a_grad = -2 * error.mean()\n",
    "        b_grad = -2 * (x * error).mean()\n",
    "\n",
    "        # update parameters\n",
    "        a -= LR * a_grad\n",
    "        b -= LR * b_grad\n",
    "\n",
    "        # plot\n",
    "        losses += [loss]\n",
    "        if (t+1) % (EPOCHS/25) == 0: # print 25 times\n",
    "            gradient_plot(x, y, y_hat, y_true, EPOCHS, losses)\n",
    "\n",
    "    print(a, b)"
   ]
  },
  {
   "cell_type": "code",
   "execution_count": 30,
   "metadata": {
    "slideshow": {
     "slide_type": "fragment"
    }
   },
   "outputs": [
    {
     "data": {
      "image/png": "[encoded data removed]",
      "text/plain": [
       "<Figure size 864x360 with 2 Axes>"
      ]
     },
     "metadata": {},
     "output_type": "display_data"
    },
    {
     "name": "stdout",
     "output_type": "stream",
     "text": [
      "[1.40589939] [-0.83739496]\n"
     ]
    },
    {
     "ename": "TypeError",
     "evalue": "cannot unpack non-iterable NoneType object",
     "output_type": "error",
     "traceback": [
      "\u001b[0;31m---------------------------------------------------------------------------\u001b[0m",
      "\u001b[0;31mTypeError\u001b[0m                                 Traceback (most recent call last)",
      "\u001b[0;32m<ipython-input-30-a03165fa148c>\u001b[0m in \u001b[0;36m<module>\u001b[0;34m\u001b[0m\n\u001b[0;32m----> 1\u001b[0;31m \u001b[0ma_fit\u001b[0m\u001b[0;34m,\u001b[0m \u001b[0mb_fit\u001b[0m \u001b[0;34m=\u001b[0m \u001b[0mmake_new_figure_3\u001b[0m\u001b[0;34m(\u001b[0m\u001b[0ma\u001b[0m\u001b[0;34m,\u001b[0m \u001b[0mb\u001b[0m\u001b[0;34m)\u001b[0m\u001b[0;34m\u001b[0m\u001b[0;34m\u001b[0m\u001b[0m\n\u001b[0m",
      "\u001b[0;31mTypeError\u001b[0m: cannot unpack non-iterable NoneType object"
     ]
    }
   ],
   "source": [
    "a_fit, b_fit = make_new_figure_3(a, b)"
   ]
  },
  {
   "cell_type": "markdown",
   "metadata": {
    "slideshow": {
     "slide_type": "slide"
    }
   },
   "source": [
    "Sanity Check: do we get the same results as our gradient descent?"
   ]
  },
  {
   "cell_type": "code",
   "execution_count": null,
   "metadata": {},
   "outputs": [],
   "source": [
    "# OLS estimates\n",
    "ols = LinearRegression()\n",
    "ols.fit(x, y)\n",
    "print(ols.intercept_, ols.coef_[0])"
   ]
  },
  {
   "cell_type": "markdown",
   "metadata": {},
   "source": [
    "Close enough!"
   ]
  },
  {
   "cell_type": "markdown",
   "metadata": {
    "slideshow": {
     "slide_type": "slide"
    }
   },
   "source": [
    "Let's plot both lines in the graph."
   ]
  },
  {
   "cell_type": "code",
   "execution_count": null,
   "metadata": {
    "slideshow": {
     "slide_type": "notes"
    }
   },
   "outputs": [],
   "source": [
    "# New figure 4\n",
    "def make_new_figure_4():\n",
    "    \n",
    "    # Init\n",
    "    fig, ax = plt.subplots(figsize=(8,6))\n",
    "\n",
    "    # Scatter\n",
    "    ax.plot(x,y_true,color='orange'); \n",
    "    ax.plot(x,a_fit + b_fit*x,color='red'); \n",
    "    ax.plot(x,ols.predict(x),color='green'); \n",
    "    ax.legend(['y true','y gd', 'y ols'])\n",
    "    ax.scatter(x,y); \n",
    "    ax.set_xlabel('X'); ax.set_ylabel('Y'); ax.set_title(\"Data\");"
   ]
  },
  {
   "cell_type": "code",
   "execution_count": null,
   "metadata": {
    "slideshow": {
     "slide_type": "fragment"
    }
   },
   "outputs": [],
   "source": [
    "make_new_figure_4()"
   ]
  },
  {
   "cell_type": "markdown",
   "metadata": {},
   "source": [
    "Now we are going to do exactly the same but with `pytorch`."
   ]
  },
  {
   "cell_type": "markdown",
   "metadata": {
    "slideshow": {
     "slide_type": "slide"
    }
   },
   "source": [
    "### Autograd"
   ]
  },
  {
   "cell_type": "markdown",
   "metadata": {
    "slideshow": {
     "slide_type": "fragment"
    }
   },
   "source": [
    "Autograd is PyTorch’s automatic differentiation package. Thanks to it, we don’t need to worry about partial derivatives, chain rule or anything like it.\n",
    "\n",
    "So, how do we tell PyTorch to do its thing and compute all gradients? That’s what `backward()` is good for.\n",
    "§\n",
    "Do you remember the starting point for computing the gradients? It was the loss, as we computed its partial derivatives w.r.t. our parameters. Hence, we need to invoke the `backward()` method from the corresponding Python variable, like, `loss.backward()`."
   ]
  },
  {
   "cell_type": "markdown",
   "metadata": {
    "slideshow": {
     "slide_type": "slide"
    }
   },
   "source": [
    "What about the actual values of the gradients? We can inspect them by looking at the grad attribute of a tensor.\n",
    "\n",
    "If you check the method’s documentation, it clearly states that gradients are accumulated. So, every time we use the\n",
    "gradients to update the parameters, we need to zero the gradients afterwards. And that’s what zero_() is good for.\n",
    "\n",
    "What does the underscore (_) at the end of the method name mean? Do you remember? If not, scroll back to the previous section and find out.\n",
    "\n",
    "So, let’s ditch the manual computation of gradients and use both backward() and zero_() methods instead."
   ]
  },
  {
   "cell_type": "markdown",
   "metadata": {
    "slideshow": {
     "slide_type": "slide"
    }
   },
   "source": [
    "First, we convert our variables to tensors."
   ]
  },
  {
   "cell_type": "code",
   "execution_count": null,
   "metadata": {},
   "outputs": [],
   "source": [
    "# Convert data to tensors\n",
    "x_tensor = torch.from_numpy(x).float().to('cpu')\n",
    "y_tensor = torch.from_numpy(y).float().to('cpu')\n",
    "print(type(x), type(x_tensor))"
   ]
  },
  {
   "cell_type": "markdown",
   "metadata": {
    "slideshow": {
     "slide_type": "slide"
    }
   },
   "source": [
    "We take the initial parameters guess"
   ]
  },
  {
   "cell_type": "code",
   "execution_count": null,
   "metadata": {},
   "outputs": [],
   "source": [
    "# initial parameter guess\n",
    "torch.manual_seed(42)\n",
    "a = torch.randn(1, requires_grad=True, dtype=torch.float, device='cpu')\n",
    "b = torch.randn(1, requires_grad=True, dtype=torch.float, device='cpu')"
   ]
  },
  {
   "cell_type": "markdown",
   "metadata": {
    "slideshow": {
     "slide_type": "slide"
    }
   },
   "source": [
    "Now we are ready to fit the model."
   ]
  },
  {
   "cell_type": "code",
   "execution_count": null,
   "metadata": {
    "scrolled": true,
    "slideshow": {
     "slide_type": "notes"
    }
   },
   "outputs": [],
   "source": [
    "# New figure 5\n",
    "def make_new_figure_5(a, b):\n",
    "    \n",
    "    # Init\n",
    "    losses = []\n",
    "\n",
    "    # parameters\n",
    "    LR = 0.1\n",
    "    EPOCHS = 200\n",
    "\n",
    "    # train\n",
    "    for t in range(EPOCHS):\n",
    "\n",
    "        # compute loss\n",
    "        y_hat = a + b * x_tensor\n",
    "        error = y_tensor - y_hat\n",
    "        loss = (error ** 2).mean()\n",
    "\n",
    "        # compute gradient\n",
    "        loss.backward()\n",
    "\n",
    "        # update parameters\n",
    "        with torch.no_grad():\n",
    "            a -= LR * a.grad\n",
    "            b -= LR * b.grad\n",
    "\n",
    "        # clear gradients\n",
    "        a.grad.zero_()\n",
    "        b.grad.zero_()\n",
    "\n",
    "        # Plot\n",
    "        losses += [((y_true - y_hat.detach().numpy())**2).mean()]\n",
    "        if (t+1) % (EPOCHS/25) == 0: # print 25 times\n",
    "            gradient_plot(x, y, y_hat.data.numpy(), y_true, EPOCHS, losses)\n",
    "\n",
    "    print(a, b)"
   ]
  },
  {
   "cell_type": "code",
   "execution_count": null,
   "metadata": {
    "slideshow": {
     "slide_type": "fragment"
    }
   },
   "outputs": [],
   "source": [
    "make_new_figure_5(a, b)"
   ]
  },
  {
   "cell_type": "markdown",
   "metadata": {
    "slideshow": {
     "slide_type": "slide"
    }
   },
   "source": [
    "### Optimizer\n"
   ]
  },
  {
   "cell_type": "markdown",
   "metadata": {
    "slideshow": {
     "slide_type": "fragment"
    }
   },
   "source": [
    "So far, we’ve been manually updating the parameters using the computed gradients. That’s probably fine for two parameters… but what if we had a whole lot of them?! We use one of PyTorch’s optimizers.\n",
    "\n",
    "An optimizer takes the following arguments:\n",
    "\n",
    "- the parameters we want to update\n",
    "- he learning rate we want to use\n",
    "- (possibly many other hyper-parameters)"
   ]
  },
  {
   "cell_type": "markdown",
   "metadata": {
    "slideshow": {
     "slide_type": "slide"
    }
   },
   "source": [
    "Moreover, we can now call the function `zero_grad()` to automatically update the parameters. In particular, we will need to perform the following steps at each iteration:\n",
    "\n",
    "- Clear the parameters: `optimizer.zero_grad()`\n",
    "- Compute the gradient: `loss.backward()`\n",
    "- Update the parameters: `optimizer.step()`"
   ]
  },
  {
   "cell_type": "markdown",
   "metadata": {
    "slideshow": {
     "slide_type": "slide"
    }
   },
   "source": [
    "In the code below, we create a Stochastic Gradient Descent (`SGD`) optimizer to update our parameters $a$ and $b$."
   ]
  },
  {
   "cell_type": "code",
   "execution_count": null,
   "metadata": {},
   "outputs": [],
   "source": [
    "# Init parameters\n",
    "torch.manual_seed(42)\n",
    "a = torch.randn(1, requires_grad=True, dtype=torch.float, device='cpu')\n",
    "b = torch.randn(1, requires_grad=True, dtype=torch.float, device='cpu')\n",
    "\n",
    "# Defines a SGD optimizer to update the parameters\n",
    "optimizer = torch.optim.SGD([a, b], lr=LR)\n",
    "print(optimizer)"
   ]
  },
  {
   "cell_type": "markdown",
   "metadata": {
    "slideshow": {
     "slide_type": "slide"
    }
   },
   "source": [
    "We can also define a default loss function so that we don't have to compute it by hand. We are going to use the `MSE` loss function."
   ]
  },
  {
   "cell_type": "code",
   "execution_count": null,
   "metadata": {},
   "outputs": [],
   "source": [
    "# Define a loss function\n",
    "loss_func = torch.nn.MSELoss()\n",
    "print(loss_func)"
   ]
  },
  {
   "cell_type": "markdown",
   "metadata": {
    "slideshow": {
     "slide_type": "slide"
    }
   },
   "source": [
    "Let's plot the estimator and the MSE."
   ]
  },
  {
   "cell_type": "code",
   "execution_count": null,
   "metadata": {
    "slideshow": {
     "slide_type": "notes"
    }
   },
   "outputs": [],
   "source": [
    "# New figure 6\n",
    "def make_new_figure_6(a, b):\n",
    "    \n",
    "    # parameters\n",
    "    EPOCHS = 200\n",
    "\n",
    "    # init \n",
    "    losses = []\n",
    "\n",
    "    # train\n",
    "    for t in range(EPOCHS):\n",
    "\n",
    "        # compute loss\n",
    "        y_hat = a + b * x_tensor\n",
    "        error = y_tensor - y_hat\n",
    "        loss = (error ** 2).mean()  \n",
    "\n",
    "        # update parameters\n",
    "        optimizer.zero_grad()   # clear gradients for next train\n",
    "        loss.backward()         # backpropagation, compute gradients\n",
    "        optimizer.step()        # apply gradients, update parameters\n",
    "\n",
    "        # Plot\n",
    "        losses += [((y_true - y_hat.detach().numpy())**2).mean()]\n",
    "        if (t+1) % (EPOCHS/25) == 0:\n",
    "            gradient_plot(x, y, y_hat.data.numpy(), y_true, EPOCHS, losses)\n",
    "\n",
    "    print(a, b)"
   ]
  },
  {
   "cell_type": "code",
   "execution_count": null,
   "metadata": {
    "slideshow": {
     "slide_type": "fragment"
    }
   },
   "outputs": [],
   "source": [
    "make_new_figure_6(a, b)"
   ]
  },
  {
   "cell_type": "markdown",
   "metadata": {
    "slideshow": {
     "slide_type": "slide"
    }
   },
   "source": [
    "### Building a NN"
   ]
  },
  {
   "cell_type": "markdown",
   "metadata": {
    "slideshow": {
     "slide_type": "fragment"
    }
   },
   "source": [
    "In our model, we manually created two parameters to perform a linear regression. Let’s use PyTorch’s `Sequential` module to create our neural network.\n",
    "\n",
    "We first want to build the linear regression framework\n",
    "\n",
    "$$\n",
    "y = a + b x\n",
    "$$\n",
    "\n",
    "Which essentially is a network with\n",
    " - 1 input\n",
    " - no hidden layer\n",
    " - no activation function\n",
    " - 1 output"
   ]
  },
  {
   "cell_type": "markdown",
   "metadata": {
    "slideshow": {
     "slide_type": "slide"
    }
   },
   "source": [
    "Let's build the simplest possible neural network with `PyTorch`."
   ]
  },
  {
   "cell_type": "code",
   "execution_count": null,
   "metadata": {},
   "outputs": [],
   "source": [
    "# Simplest possible neural network\n",
    "linear_net = torch.nn.Sequential(\n",
    "    torch.nn.Linear(1, 1)\n",
    ")\n",
    "\n",
    "print(linear_net)"
   ]
  },
  {
   "cell_type": "markdown",
   "metadata": {
    "slideshow": {
     "slide_type": "slide"
    }
   },
   "source": [
    "Now, if we call the `parameters()` method of this model, PyTorch will figure the parameters of its attributes in a recursive way. "
   ]
  },
  {
   "cell_type": "code",
   "execution_count": null,
   "metadata": {},
   "outputs": [],
   "source": [
    "[*linear_net.parameters()]"
   ]
  },
  {
   "cell_type": "markdown",
   "metadata": {},
   "source": [
    "We can now define the definitive training function."
   ]
  },
  {
   "cell_type": "code",
   "execution_count": null,
   "metadata": {
    "slideshow": {
     "slide_type": "slide"
    }
   },
   "outputs": [],
   "source": [
    "def train_NN(x, y, y_true, net, optimizer, loss_func, EPOCHS):\n",
    "    \n",
    "    # transform variables\n",
    "    x_tensor = torch.from_numpy(x).float().to('cpu')\n",
    "    y_tensor = torch.from_numpy(y).float().to('cpu')\n",
    "\n",
    "    # init \n",
    "    losses = []\n",
    "    \n",
    "    # train\n",
    "    for t in range(EPOCHS):        \n",
    "\n",
    "        # compute loss\n",
    "        y_hat = net(x_tensor)     \n",
    "        loss = loss_func(y_hat, y_tensor)    \n",
    "        \n",
    "        # update parameters\n",
    "        optimizer.zero_grad()   # clear gradients for next train\n",
    "        loss.backward()         # backpropagation, compute gradients\n",
    "        optimizer.step()        # apply gradients, update parameters\n",
    "\n",
    "        # plot\n",
    "        losses += [((y_true - y_hat.detach().numpy())**2).mean()]\n",
    "        if (t+1) % (EPOCHS/25) == 0: # print 25 times\n",
    "            gradient_plot(x, y, y_hat.data.numpy(), y_true, EPOCHS, losses)"
   ]
  },
  {
   "cell_type": "markdown",
   "metadata": {
    "slideshow": {
     "slide_type": "slide"
    }
   },
   "source": [
    "Now we are ready to train our neural network."
   ]
  },
  {
   "cell_type": "code",
   "execution_count": null,
   "metadata": {
    "slideshow": {
     "slide_type": "fragment"
    }
   },
   "outputs": [],
   "source": [
    "optimizer = torch.optim.SGD(linear_net.parameters(), lr=LR)\n",
    "\n",
    "# train\n",
    "train_NN(x, y, y_true, linear_net, optimizer, loss_func, EPOCHS)"
   ]
  },
  {
   "cell_type": "markdown",
   "metadata": {
    "slideshow": {
     "slide_type": "slide"
    }
   },
   "source": [
    "We now define a more complicated NN. In particular we, build a neural network with\n",
    " - 1 input\n",
    " - 1 hidden layer with 10 neurons and Relu activation function\n",
    " - 1 output layer"
   ]
  },
  {
   "cell_type": "code",
   "execution_count": null,
   "metadata": {
    "slideshow": {
     "slide_type": "fragment"
    }
   },
   "outputs": [],
   "source": [
    "# Relu Net\n",
    "relu_net = torch.nn.Sequential(\n",
    "    torch.nn.Linear(1, 10),\n",
    "    torch.nn.ReLU(),\n",
    "    torch.nn.Linear(10, 1)\n",
    ")\n",
    "\n",
    "print(relu_net)"
   ]
  },
  {
   "cell_type": "markdown",
   "metadata": {
    "slideshow": {
     "slide_type": "slide"
    }
   },
   "source": [
    "This network has much more parameters."
   ]
  },
  {
   "cell_type": "code",
   "execution_count": null,
   "metadata": {},
   "outputs": [],
   "source": [
    "[*relu_net.parameters()]"
   ]
  },
  {
   "cell_type": "markdown",
   "metadata": {
    "slideshow": {
     "slide_type": "slide"
    }
   },
   "source": [
    "We are again using Stochastic Gradient Descent (`SGD`) as optimization algorithm and Mean Squared Error (`MSELoss`) as objective function."
   ]
  },
  {
   "cell_type": "code",
   "execution_count": null,
   "metadata": {
    "scrolled": false,
    "slideshow": {
     "slide_type": "fragment"
    }
   },
   "outputs": [],
   "source": [
    "# parameters\n",
    "LR = 0.1\n",
    "EPOCHS = 1000\n",
    "\n",
    "# optimizer and loss function\n",
    "optimizer = torch.optim.SGD(relu_net.parameters(), lr=LR)\n",
    "loss_func = torch.nn.MSELoss()\n",
    "\n",
    "# Train\n",
    "train_NN(x, y, y_true, relu_net, optimizer, loss_func, EPOCHS)"
   ]
  },
  {
   "cell_type": "markdown",
   "metadata": {
    "slideshow": {
     "slide_type": "-"
    }
   },
   "source": [
    "It seems that we can use fewer nodes to get the same result."
   ]
  },
  {
   "cell_type": "markdown",
   "metadata": {
    "slideshow": {
     "slide_type": "slide"
    }
   },
   "source": [
    "Let's make a smallet network."
   ]
  },
  {
   "cell_type": "code",
   "execution_count": null,
   "metadata": {
    "slideshow": {
     "slide_type": "skip"
    }
   },
   "outputs": [],
   "source": [
    "# Relu Net\n",
    "relu_net2 = torch.nn.Sequential(\n",
    "    torch.nn.Linear(1, 5),\n",
    "    torch.nn.ReLU(),\n",
    "    torch.nn.Linear(5, 1)\n",
    ")"
   ]
  },
  {
   "cell_type": "markdown",
   "metadata": {
    "slideshow": {
     "slide_type": "slide"
    }
   },
   "source": [
    "And train it."
   ]
  },
  {
   "cell_type": "code",
   "execution_count": null,
   "metadata": {
    "slideshow": {
     "slide_type": "fragment"
    }
   },
   "outputs": [],
   "source": [
    "# parameters\n",
    "LR = 0.1\n",
    "EPOCHS = 1000\n",
    "\n",
    "# optimizer and loss function\n",
    "optimizer = torch.optim.SGD(relu_net2.parameters(), lr=LR)\n",
    "loss_func = torch.nn.MSELoss()\n",
    "\n",
    "# Train\n",
    "train_NN(x, y, y_true, relu_net2, optimizer, loss_func, EPOCHS)"
   ]
  },
  {
   "cell_type": "markdown",
   "metadata": {
    "slideshow": {
     "slide_type": "slide"
    }
   },
   "source": [
    "We can try different activation functions.\n",
    "\n",
    "For example the tangent."
   ]
  },
  {
   "cell_type": "code",
   "execution_count": null,
   "metadata": {},
   "outputs": [],
   "source": [
    "# TanH Net\n",
    "tanh_net = torch.nn.Sequential(\n",
    "    torch.nn.Linear(1, 10),\n",
    "    torch.nn.Tanh(),\n",
    "    torch.nn.Linear(10, 1)\n",
    ")"
   ]
  },
  {
   "cell_type": "code",
   "execution_count": null,
   "metadata": {
    "slideshow": {
     "slide_type": "slide"
    }
   },
   "outputs": [],
   "source": [
    "# parameters\n",
    "LR = 0.2\n",
    "EPOCHS = 1000\n",
    "\n",
    "# optimizer and loss function\n",
    "optimizer = torch.optim.SGD(tanh_net.parameters(), lr=LR)\n",
    "loss_func = torch.nn.MSELoss()\n",
    "\n",
    "# train\n",
    "train_NN(x, y, y_true, tanh_net, optimizer, loss_func, EPOCHS)"
   ]
  },
  {
   "cell_type": "markdown",
   "metadata": {
    "slideshow": {
     "slide_type": "slide"
    }
   },
   "source": [
    "### Loss functions"
   ]
  },
  {
   "cell_type": "markdown",
   "metadata": {
    "slideshow": {
     "slide_type": "fragment"
    }
   },
   "source": [
    "So far we have used the Stochastic  as loss function.\n",
    "\n",
    "Notice that `nn.MSELoss` actually creates a loss function for us — it is NOT the loss function itself. Moreover, you can specify a reduction method to be applied, that is, how do you want to aggregate the results for individual points — you can average them (reduction=`mean`) or simply sum them up (reduction=`sum`).\n",
    "\n",
    "We are now going to use different ones."
   ]
  },
  {
   "cell_type": "code",
   "execution_count": null,
   "metadata": {
    "slideshow": {
     "slide_type": "subslide"
    }
   },
   "outputs": [],
   "source": [
    "# parameters\n",
    "LR = 0.1\n",
    "EPOCHS = 25\n",
    "\n",
    "# nets\n",
    "n = torch.nn.Sequential(torch.nn.Linear(1, 10), torch.nn.ReLU(), torch.nn.Linear(10, 1))\n",
    "nets = [n,n,n,n]\n",
    "\n",
    "# optimizers\n",
    "optimizers = [torch.optim.SGD(n.parameters(), lr=LR) for n in nets]\n",
    "\n",
    "# different loss functions\n",
    "loss_MSE        = torch.nn.MSELoss()\n",
    "loss_L1         = torch.nn.L1Loss()\n",
    "loss_NLL        = torch.nn.NLLLoss()\n",
    "loss_KLD        = torch.nn.KLDivLoss()\n",
    "loss_funcs = [loss_MSE, loss_L1, loss_NLL, loss_KLD]"
   ]
  },
  {
   "cell_type": "markdown",
   "metadata": {
    "slideshow": {
     "slide_type": "slide"
    }
   },
   "source": [
    "This is the description of the loss functions:\n",
    "\n",
    " - `MSELoss`: Creates a criterion that measures the mean squared error (squared L2 norm) between each element in the input $x$ and target $y$.\n",
    " \n",
    " - `L1Loss`: Creates a criterion that measures the mean absolute error (MAE) between each element in the input $x$ and target $y$.\n",
    " \n",
    " - `NLLLoss`: The negative log likelihood loss.\n",
    " \n",
    " - `KLDivLoss`: The Kullback-Leibler divergence loss measure"
   ]
  },
  {
   "cell_type": "code",
   "execution_count": null,
   "metadata": {
    "slideshow": {
     "slide_type": "subslide"
    }
   },
   "outputs": [],
   "source": [
    "# Train multiple nets\n",
    "def train_nets(x, y, y_true, nets, optimizers, loss_funcs, labels, EPOCHS):\n",
    "\n",
    "    # Put dateset into torch dataset\n",
    "    x_tensor = torch.from_numpy(x).float().to('cpu')\n",
    "    y_tensor = torch.from_numpy(y).float().to('cpu')\n",
    "    torch_dataset = Data.TensorDataset(x_tensor, y_tensor)\n",
    "    \n",
    "    # Init\n",
    "    losses = np.zeros((0,4))\n",
    "    \n",
    "    # Train\n",
    "    for epoch in range(EPOCHS): # for each epoch\n",
    "        losses = np.vstack((losses, np.zeros((1,4))))\n",
    "        for k, net, opt, lf in zip(range(4), nets, optimizers, loss_funcs):\n",
    "            y_hat = net(x_tensor)              # get output for every net\n",
    "            loss = loss_func(y_hat, y_tensor)  # compute loss for every net\n",
    "            opt.zero_grad()                    # clear gradients for next train\n",
    "            loss.backward()                    # backpropagation, compute gradients\n",
    "            opt.step()                         # apply gradients\n",
    "            losses[-1,k] = ((y_true - y_hat.detach().numpy())**2).mean()\n",
    "        plot_losses(losses, labels, EPOCHS)"
   ]
  },
  {
   "cell_type": "code",
   "execution_count": null,
   "metadata": {
    "slideshow": {
     "slide_type": "subslide"
    }
   },
   "outputs": [],
   "source": [
    "# Plot losses \n",
    "def plot_losses(losses, labels, EPOCHS):\n",
    "    clear_output(wait=True)\n",
    "    fig, ax = plt.subplots(1,1, figsize=(10,6))\n",
    "    \n",
    "    # Plot\n",
    "    ax.clear()\n",
    "    ax.plot(range(len(losses)), losses)\n",
    "    ax.set_xlim(0,EPOCHS-1); ax.set_ylim(0,1.1*np.max(losses))\n",
    "    ax.set_title('Compare Losses'); ax.set_ylabel('True MSE')\n",
    "    legend_txt = ['%s=%.4f' % (label, loss) for label,loss in zip(labels, losses[-1,:])]\n",
    "    ax.legend(legend_txt)\n",
    "    \n",
    "    # Shot\n",
    "    plt.show();"
   ]
  },
  {
   "cell_type": "markdown",
   "metadata": {
    "slideshow": {
     "slide_type": "slide"
    }
   },
   "source": [
    "Let's compare them."
   ]
  },
  {
   "cell_type": "code",
   "execution_count": null,
   "metadata": {
    "scrolled": false,
    "slideshow": {
     "slide_type": "fragment"
    }
   },
   "outputs": [],
   "source": [
    "# Train\n",
    "labels = ['MSE', 'L1', 'LogL', 'KLdiv']\n",
    "train_nets(x, y, y_true, nets, optimizers, loss_funcs, labels, EPOCHS)"
   ]
  },
  {
   "cell_type": "markdown",
   "metadata": {},
   "source": [
    "In this very simple case, all loss functions are very similar."
   ]
  },
  {
   "cell_type": "markdown",
   "metadata": {
    "slideshow": {
     "slide_type": "slide"
    }
   },
   "source": [
    "### Optimizers"
   ]
  },
  {
   "cell_type": "markdown",
   "metadata": {
    "slideshow": {
     "slide_type": "fragment"
    }
   },
   "source": [
    "So far we have used the Stochastic Gradient Descent to fit the neural network. We are now going to use different ones.\n",
    "\n",
    "This is the [description of the optimizers](https://pytorch.org/docs/stable/optim.html):\n",
    "\n",
    " - `SGD`: Implements stochastic gradient descent (optionally with momentum).\n",
    "\n",
    " - `Momentum`: Nesterov momentum is based on the formula from [On the importance of initialization and momentum in deep learning](http://www.cs.toronto.edu/~hinton/absps/momentum.pdf).\n",
    "\n",
    " - `RMSprop`: Proposed by G. Hinton in his [course](https://www.cs.toronto.edu/~tijmen/csc321/slides/lecture_slides_lec6.pdf). The centered version first appears in [Generating Sequences With Recurrent Neural Networks](https://www.cs.toronto.edu/~tijmen/csc321/slides/lecture_slides_lec6.pdf). The implementation here takes the square root of the gradient average before adding epsilon (note that TensorFlow interchanges these two operations). The effective learning rate is thus $\\frac{\\alpha}{\\sqrt{v} + \\epsilon}$ where $\\alpha$ is the scheduled learning rate and $v$ is the weighted moving average of the squared gradient.\n",
    "\n",
    " - `Adam`: Proposed in [Adam: A Method for Stochastic Optimization](https://arxiv.org/abs/1412.6980). The implementation of the L2 penalty follows changes proposed in [Decoupled Weight Decay Regularization](https://arxiv.org/abs/1711.05101).\n",
    " "
   ]
  },
  {
   "cell_type": "code",
   "execution_count": null,
   "metadata": {
    "slideshow": {
     "slide_type": "subslide"
    }
   },
   "outputs": [],
   "source": [
    "# parameters\n",
    "LR = 0.1\n",
    "EPOCHS = 25\n",
    "\n",
    "# nets\n",
    "n = torch.nn.Sequential(torch.nn.Linear(1, 10), torch.nn.ReLU(), torch.nn.Linear(10, 1))\n",
    "nets = [n,n,n,n]\n",
    "\n",
    "# different optimizers\n",
    "opt_SGD         = torch.optim.SGD(nets[0].parameters(), lr=LR)\n",
    "opt_Momentum    = torch.optim.SGD(nets[1].parameters(), lr=LR, momentum=0.8)\n",
    "opt_RMSprop     = torch.optim.RMSprop(nets[2].parameters(), lr=LR, alpha=0.9)\n",
    "opt_Adam        = torch.optim.Adam(nets[3].parameters(), lr=LR, betas=(0.9, 0.99))\n",
    "optimizers = [opt_SGD, opt_Momentum, opt_RMSprop, opt_Adam]\n",
    "\n",
    "# loss functions\n",
    "l = torch.nn.MSELoss()\n",
    "loss_funcs = [l,l,l,l]"
   ]
  },
  {
   "cell_type": "markdown",
   "metadata": {
    "slideshow": {
     "slide_type": "slide"
    }
   },
   "source": [
    "Let's prot the loss functions over training, for different optimizers."
   ]
  },
  {
   "cell_type": "code",
   "execution_count": null,
   "metadata": {
    "scrolled": false,
    "slideshow": {
     "slide_type": "fragment"
    }
   },
   "outputs": [],
   "source": [
    "# train\n",
    "labels = ['SGD', 'Momentum', 'RMSprop', 'Adam']\n",
    "train_nets(x, y, y_true, nets, optimizers, loss_funcs, labels, EPOCHS)"
   ]
  },
  {
   "cell_type": "markdown",
   "metadata": {
    "slideshow": {
     "slide_type": "slide"
    }
   },
   "source": [
    "### Training on batch"
   ]
  },
  {
   "cell_type": "markdown",
   "metadata": {
    "slideshow": {
     "slide_type": "fragment"
    }
   },
   "source": [
    "Until now, we have used the whole training data at every training step. It has been batch gradient descent all along. \n",
    "\n",
    "This is fine for our ridiculously small dataset, sure, but if we want to go serious about all this, we must use mini-batch gradient descent. Thus, we need mini-batches. Thus, we need to slice our dataset accordingly. Do you want to do it manually?! Me neither!\n",
    "\n",
    "So we use PyTorch’s `DataLoader` class for this job. We tell it which dataset to use (the one we just built in the previous section), the desired mini-batch size and if we’d like to shuffle it or not. That’s it!\n",
    "\n",
    "Our loader will behave like an iterator, so we can loop over it and fetch a different mini-batch every time."
   ]
  },
  {
   "cell_type": "code",
   "execution_count": null,
   "metadata": {
    "slideshow": {
     "slide_type": "subslide"
    }
   },
   "outputs": [],
   "source": [
    "# Init data\n",
    "x_tensor = torch.from_numpy(x).float().to('cpu')\n",
    "y_tensor = torch.from_numpy(y).float().to('cpu')\n",
    "torch_dataset = Data.TensorDataset(x_tensor, y_tensor)\n",
    "\n",
    "# Build DataLoader\n",
    "BATCH_SIZE = 25\n",
    "loader = Data.DataLoader(\n",
    "    dataset=torch_dataset,      # torch TensorDataset format\n",
    "    batch_size=BATCH_SIZE,      # mini batch size\n",
    "    shuffle=True,               # random shuffle for training\n",
    ")"
   ]
  },
  {
   "cell_type": "markdown",
   "metadata": {
    "slideshow": {
     "slide_type": "slide"
    }
   },
   "source": [
    "Let's try using sub-samples of dimension `BATCH_SIZE = 25`."
   ]
  },
  {
   "cell_type": "code",
   "execution_count": null,
   "metadata": {
    "slideshow": {
     "slide_type": "notes"
    }
   },
   "outputs": [],
   "source": [
    "def train_NN_batch(loader, y_true, net, optimizer, loss_func, EPOCHS):\n",
    "    \n",
    "    # init\n",
    "    losses = []\n",
    "\n",
    "    # train\n",
    "    for t in range(EPOCHS):   \n",
    "        # train entire dataset 3 times\n",
    "        for step, (batch_x, batch_y) in enumerate(loader):\n",
    "\n",
    "            # compute loss\n",
    "            y_hat = net(batch_x)     \n",
    "            loss = loss_func(y_hat, batch_y)    \n",
    "\n",
    "            # update parameters\n",
    "            optimizer.zero_grad()   # clear gradients for next train\n",
    "            loss.backward()         # backpropagation, compute gradients\n",
    "            optimizer.step()        # apply gradients\n",
    "\n",
    "        # plt every epoch\n",
    "        y_hat = net(x_tensor)  \n",
    "        losses += [((y_true - y_hat.detach().numpy())**2).mean()]\n",
    "        if (t+1) % (EPOCHS/25) == 0:\n",
    "            gradient_plot(x, y, y_hat.data.numpy(), y_true, EPOCHS, losses)"
   ]
  },
  {
   "cell_type": "code",
   "execution_count": null,
   "metadata": {
    "scrolled": true,
    "slideshow": {
     "slide_type": "fragment"
    }
   },
   "outputs": [],
   "source": [
    "# parameters\n",
    "LR = 0.1\n",
    "EPOCHS = 1000\n",
    "net = torch.nn.Sequential(torch.nn.Linear(1, 10), torch.nn.ReLU(), torch.nn.Linear(10, 1))\n",
    "optimizer = torch.optim.SGD(net.parameters(), lr=LR)\n",
    "loss_func = torch.nn.MSELoss()\n",
    "\n",
    "# Train\n",
    "train_NN_batch(loader, y_true, net, optimizer, loss_func, EPOCHS)"
   ]
  },
  {
   "cell_type": "markdown",
   "metadata": {
    "slideshow": {
     "slide_type": "slide"
    }
   },
   "source": [
    "Two things are different now: not only we have an inner loop to load each and every mini-batch from our DataLoader but, more importantly, we are now sending only one mini-batch to the device.\n",
    "\n",
    "For bigger datasets, loading data sample by sample (into a CPU tensor) using Dataset’s `__get_item__` and then sending all samples that belong to the same mini-batch at once to your GPU (device) is the way to go in order to make the best use of your graphics card’s RAM.\n",
    "\n",
    "Moreover, if you have many GPUs to train your model on, it is best to keep your dataset “agnostic” and assign the batches to different GPUs during training."
   ]
  },
  {
   "cell_type": "markdown",
   "metadata": {
    "slideshow": {
     "slide_type": "slide"
    }
   },
   "source": [
    "## 8.4 Advanced Topics\n",
    "\n",
    "[*back to index*](#/1)"
   ]
  },
  {
   "cell_type": "markdown",
   "metadata": {
    "slideshow": {
     "slide_type": "slide"
    }
   },
   "source": [
    "### Issues"
   ]
  },
  {
   "cell_type": "markdown",
   "metadata": {
    "slideshow": {
     "slide_type": "fragment"
    }
   },
   "source": [
    "#### Starting Values\n",
    "\n",
    "Usually starting values for weights are chosen to be random values near zero. Hence the model starts out nearly linear, and becomes nonlinear as the weights increase.\n",
    "\n",
    "#### Overfitting\n",
    "\n",
    "In early developments of neural networks, either by design or by accident, an early stopping rule was used to avoid overfitting. \n",
    "\n",
    "A more explicit method for regularization is *weight decay*.\n",
    "\n",
    "#### Scaling of the Inputs\n",
    "\n",
    "Since the scaling of the inputs determines the effective scaling of the weights in the bottom layer, it can have a large effect on the quality of the final solution. At the outset it is best to standardize all inputs to have mean zero and standard deviation one. "
   ]
  },
  {
   "cell_type": "markdown",
   "metadata": {
    "slideshow": {
     "slide_type": "slide"
    }
   },
   "source": [
    "#### Number of Hidden Units and Layers\n",
    "\n",
    "Generally speaking it is better to have too many hidden units than too few. With too few hidden units, the model might not have enough flexibility to capture the nonlinearities in the data; with too many hidden units, the extra weights can be shrunk toward zero if appropriate regularization is used. \n",
    "\n",
    "Choice of the number of hidden layers is guided by background knowledge and experimentation. Each layer extracts features of the input for regression or classification. Use of multiple hidden layers allows construction of hierarchical features at different levels of resolution.\n",
    "\n",
    "You can get an intuition on the role of hidden layers here: https://playground.tensorflow.org/\n",
    "\n",
    "#### Multiple Minima\n",
    "\n",
    "The error function R(θ) is nonconvex, possessing many local minima. One approach is to use the average predictions over the collection of networks as the final prediction. Another approach is via *bagging*."
   ]
  },
  {
   "cell_type": "markdown",
   "metadata": {
    "slideshow": {
     "slide_type": "slide"
    }
   },
   "source": [
    "### Deep Neural Networks and Deep Learning"
   ]
  },
  {
   "cell_type": "markdown",
   "metadata": {
    "slideshow": {
     "slide_type": "fragment"
    }
   },
   "source": [
    "Deep Neural Networks are just Neural Networks with more than one hidden layer."
   ]
  },
  {
   "cell_type": "markdown",
   "metadata": {
    "slideshow": {
     "slide_type": "slide"
    }
   },
   "source": [
    "### Convolutional Neural Nets"
   ]
  },
  {
   "cell_type": "markdown",
   "metadata": {
    "slideshow": {
     "slide_type": "fragment"
    }
   },
   "source": [
    "Convolutional Neural Nets are often applied when dealing with image/video data. They are usually coded with each feature being a pixel and its value is the pixel color (3 dimensional RGB array).\n",
    "\n",
    "<img src=\"figures/cnn1.png\" style=\"width: 400px;\"/>"
   ]
  },
  {
   "cell_type": "markdown",
   "metadata": {
    "slideshow": {
     "slide_type": "slide"
    }
   },
   "source": [
    "Videos and images have 2 main characteristics:\n",
    " - have lots of features\n",
    " - \"close\" features are often similar\n",
    " \n",
    "Convolutional Neural Nets exploit the second characteristic to alleviate the computational problems arising from the first. They do it by constructing a first layer that does not build on evey feature but only on adjacent ones.\n",
    "\n",
    "<img src=\"figures/cnn1.gif\" style=\"width: 400px;\"/>\n",
    "\n",
    "In this way, most of the information is preserved, on a lower dimensional representation."
   ]
  },
  {
   "cell_type": "markdown",
   "metadata": {
    "slideshow": {
     "slide_type": "slide"
    }
   },
   "source": [
    "### Recurrent Neural Nets"
   ]
  },
  {
   "cell_type": "markdown",
   "metadata": {
    "slideshow": {
     "slide_type": "fragment"
    }
   },
   "source": [
    "Recurrent Neural Networks are often applied in contexts in which the data generating process is dynamic. The most important example is Natural Language Processing. The idea is that you want to make predictions \"live\" as data comes in. Moreover, the order of the data is relevant, so that you also what to keep track of what the model has learned so far.\n",
    "\n",
    "While RNNs learn similarly while training, in addition, they remember things learnt from prior input(s) while generating output(s). It’s part of the network. RNNs can take one or more input vectors and produce one or more output vectors and the output(s) are influenced not just by weights applied on inputs like a regular NN, but also by a “hidden” state vector representing the context based on prior input(s)/output(s). So, the same input could produce a different output depending on previous inputs in the series."
   ]
  },
  {
   "cell_type": "markdown",
   "metadata": {
    "slideshow": {
     "slide_type": "slide"
    }
   },
   "source": [
    "Grafically:\n",
    " \n",
    "<img src=\"figures/rnn1.png\" style=\"width: 600px;\"/>\n",
    "\n",
    "In summary, in a vanilla neural network, a fixed size input vector is transformed into a fixed size output vector. Such a network becomes “recurrent” when you repeatedly apply the transformations to a series of given input and produce a series of output vectors."
   ]
  },
  {
   "cell_type": "markdown",
   "metadata": {
    "slideshow": {
     "slide_type": "slide"
    }
   },
   "source": [
    "### Bidirectional RNN"
   ]
  },
  {
   "cell_type": "markdown",
   "metadata": {
    "slideshow": {
     "slide_type": "fragment"
    }
   },
   "source": [
    "Sometimes it’s not just about learning from the past to predict the future, but we also need to look into the future to fix the past. In speech recognition and handwriting recognition tasks, where there could be considerable ambiguity given just one part of the input, we often need to know what’s coming next to better understand the context and detect the present.\n",
    "\n",
    "<img src=\"figures/rnn2.png\" style=\"width: 600px;\"/>\n",
    "\n",
    "This does introduce the obvious challenge of how much into the future we need to look into, because if we have to wait to see all inputs then the entire operation will become costly."
   ]
  },
  {
   "cell_type": "markdown",
   "metadata": {
    "slideshow": {
     "slide_type": "slide"
    }
   },
   "source": [
    "### Recursive Neural Netw"
   ]
  },
  {
   "cell_type": "markdown",
   "metadata": {
    "slideshow": {
     "slide_type": "fragment"
    }
   },
   "source": [
    "A recurrent neural network parses the inputs in a sequential fashion. A recursive neural network is similar to the extent that the transitions are repeatedly applied to inputs, but not necessarily in a sequential fashion. Recursive Neural Networks are a more general form of Recurrent Neural Networks. It can operate on any hierarchical tree structure. Parsing through input nodes, combining child nodes into parent nodes and combining them with other child/parent nodes to create a tree like structure. Recurrent Neural Networks do the same, but the structure there is strictly linear. i.e. weights are applied on the first input node, then the second, third and so on.\n",
    "\n",
    "<img src=\"figures/rnn3.png\" style=\"width: 600px;\"/>\n",
    "\n",
    "But this raises questions pertaining to the structure. How do we decide that? If the structure is fixed like in Recurrent Neural Networks then the process of training, backprop etc makes sense in that they are similar to a regular neural network. But if the structure isn’t fixed, is that learnt as well?"
   ]
  },
  {
   "cell_type": "markdown",
   "metadata": {
    "slideshow": {
     "slide_type": "slide"
    }
   },
   "source": [
    "## Next Session\n",
    "\n",
    "Jump to [Session 9 - Post-double Selection](https://matteocourthoud.github.io/course/ml-econ/9-postdoubleselection)"
   ]
  }
 ],
 "metadata": {
  "celltoolbar": "Slideshow",
  "kernelspec": {
   "display_name": "Python 3",
   "language": "python",
   "name": "python3"
  },
  "language_info": {
   "codemirror_mode": {
    "name": "ipython",
    "version": 3
   },
   "file_extension": ".py",
   "mimetype": "text/x-python",
   "name": "python",
   "nbconvert_exporter": "python",
   "pygments_lexer": "ipython3",
   "version": "3.9.7"
  }
 },
 "nbformat": 4,
 "nbformat_minor": 4
}
